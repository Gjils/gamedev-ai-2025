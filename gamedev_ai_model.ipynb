{
  "nbformat": 4,
  "nbformat_minor": 0,
  "metadata": {
    "colab": {
      "provenance": []
    },
    "kernelspec": {
      "name": "python3",
      "display_name": "Python 3"
    },
    "language_info": {
      "name": "python"
    }
  },
  "cells": [
    {
      "cell_type": "code",
      "source": [
        "pip install gigachain_community"
      ],
      "metadata": {
        "colab": {
          "base_uri": "https://localhost:8080/"
        },
        "id": "2xpSmX_N6SpY",
        "outputId": "74553ab1-41db-4e7d-f4a8-261afdfe86a3"
      },
      "execution_count": 1,
      "outputs": [
        {
          "output_type": "stream",
          "name": "stdout",
          "text": [
            "Requirement already satisfied: gigachain_community in /usr/local/lib/python3.11/dist-packages (0.2.16.post3)\n",
            "Requirement already satisfied: PyYAML>=5.3 in /usr/local/lib/python3.11/dist-packages (from gigachain_community) (6.0.2)\n",
            "Requirement already satisfied: SQLAlchemy<3,>=1.4 in /usr/local/lib/python3.11/dist-packages (from gigachain_community) (2.0.41)\n",
            "Requirement already satisfied: aiohttp<4.0.0,>=3.8.3 in /usr/local/lib/python3.11/dist-packages (from gigachain_community) (3.12.14)\n",
            "Requirement already satisfied: dataclasses-json<0.7,>=0.5.7 in /usr/local/lib/python3.11/dist-packages (from gigachain_community) (0.6.7)\n",
            "Requirement already satisfied: gigachain<0.3.0,>=0.2.16 in /usr/local/lib/python3.11/dist-packages (from gigachain_community) (0.2.16)\n",
            "Requirement already satisfied: gigachain-core<0.3.0,>=0.2.38post2 in /usr/local/lib/python3.11/dist-packages (from gigachain_community) (0.2.38.post2)\n",
            "Requirement already satisfied: gigachat>=0.1.35 in /usr/local/lib/python3.11/dist-packages (from gigachain_community) (0.1.41.post1)\n",
            "Requirement already satisfied: langsmith<0.2.0,>=0.1.112 in /usr/local/lib/python3.11/dist-packages (from gigachain_community) (0.1.147)\n",
            "Requirement already satisfied: numpy<2,>=1 in /usr/local/lib/python3.11/dist-packages (from gigachain_community) (1.26.4)\n",
            "Requirement already satisfied: requests<3,>=2 in /usr/local/lib/python3.11/dist-packages (from gigachain_community) (2.32.3)\n",
            "Requirement already satisfied: tenacity!=8.4.0,<9.0.0,>=8.1.0 in /usr/local/lib/python3.11/dist-packages (from gigachain_community) (8.5.0)\n",
            "Requirement already satisfied: aiohappyeyeballs>=2.5.0 in /usr/local/lib/python3.11/dist-packages (from aiohttp<4.0.0,>=3.8.3->gigachain_community) (2.6.1)\n",
            "Requirement already satisfied: aiosignal>=1.4.0 in /usr/local/lib/python3.11/dist-packages (from aiohttp<4.0.0,>=3.8.3->gigachain_community) (1.4.0)\n",
            "Requirement already satisfied: attrs>=17.3.0 in /usr/local/lib/python3.11/dist-packages (from aiohttp<4.0.0,>=3.8.3->gigachain_community) (25.3.0)\n",
            "Requirement already satisfied: frozenlist>=1.1.1 in /usr/local/lib/python3.11/dist-packages (from aiohttp<4.0.0,>=3.8.3->gigachain_community) (1.7.0)\n",
            "Requirement already satisfied: multidict<7.0,>=4.5 in /usr/local/lib/python3.11/dist-packages (from aiohttp<4.0.0,>=3.8.3->gigachain_community) (6.6.3)\n",
            "Requirement already satisfied: propcache>=0.2.0 in /usr/local/lib/python3.11/dist-packages (from aiohttp<4.0.0,>=3.8.3->gigachain_community) (0.3.2)\n",
            "Requirement already satisfied: yarl<2.0,>=1.17.0 in /usr/local/lib/python3.11/dist-packages (from aiohttp<4.0.0,>=3.8.3->gigachain_community) (1.20.1)\n",
            "Requirement already satisfied: marshmallow<4.0.0,>=3.18.0 in /usr/local/lib/python3.11/dist-packages (from dataclasses-json<0.7,>=0.5.7->gigachain_community) (3.26.1)\n",
            "Requirement already satisfied: typing-inspect<1,>=0.4.0 in /usr/local/lib/python3.11/dist-packages (from dataclasses-json<0.7,>=0.5.7->gigachain_community) (0.9.0)\n",
            "Requirement already satisfied: gigachain-text-splitters<0.3.0,>=0.2.0 in /usr/local/lib/python3.11/dist-packages (from gigachain<0.3.0,>=0.2.16->gigachain_community) (0.2.4)\n",
            "Requirement already satisfied: pydantic<3,>=1 in /usr/local/lib/python3.11/dist-packages (from gigachain<0.3.0,>=0.2.16->gigachain_community) (2.11.7)\n",
            "Requirement already satisfied: jsonpatch<2.0,>=1.33 in /usr/local/lib/python3.11/dist-packages (from gigachain-core<0.3.0,>=0.2.38post2->gigachain_community) (1.33)\n",
            "Requirement already satisfied: langfuse<3.0.0,>=2.41.0 in /usr/local/lib/python3.11/dist-packages (from gigachain-core<0.3.0,>=0.2.38post2->gigachain_community) (2.60.9)\n",
            "Requirement already satisfied: packaging<25,>=23.2 in /usr/local/lib/python3.11/dist-packages (from gigachain-core<0.3.0,>=0.2.38post2->gigachain_community) (24.2)\n",
            "Requirement already satisfied: typing-extensions>=4.7 in /usr/local/lib/python3.11/dist-packages (from gigachain-core<0.3.0,>=0.2.38post2->gigachain_community) (4.14.1)\n",
            "Requirement already satisfied: httpx<1 in /usr/local/lib/python3.11/dist-packages (from gigachat>=0.1.35->gigachain_community) (0.28.1)\n",
            "Requirement already satisfied: orjson<4.0.0,>=3.9.14 in /usr/local/lib/python3.11/dist-packages (from langsmith<0.2.0,>=0.1.112->gigachain_community) (3.11.1)\n",
            "Requirement already satisfied: requests-toolbelt<2.0.0,>=1.0.0 in /usr/local/lib/python3.11/dist-packages (from langsmith<0.2.0,>=0.1.112->gigachain_community) (1.0.0)\n",
            "Requirement already satisfied: charset-normalizer<4,>=2 in /usr/local/lib/python3.11/dist-packages (from requests<3,>=2->gigachain_community) (3.4.2)\n",
            "Requirement already satisfied: idna<4,>=2.5 in /usr/local/lib/python3.11/dist-packages (from requests<3,>=2->gigachain_community) (3.10)\n",
            "Requirement already satisfied: urllib3<3,>=1.21.1 in /usr/local/lib/python3.11/dist-packages (from requests<3,>=2->gigachain_community) (2.5.0)\n",
            "Requirement already satisfied: certifi>=2017.4.17 in /usr/local/lib/python3.11/dist-packages (from requests<3,>=2->gigachain_community) (2025.7.14)\n",
            "Requirement already satisfied: greenlet>=1 in /usr/local/lib/python3.11/dist-packages (from SQLAlchemy<3,>=1.4->gigachain_community) (3.2.3)\n",
            "Requirement already satisfied: anyio in /usr/local/lib/python3.11/dist-packages (from httpx<1->gigachat>=0.1.35->gigachain_community) (4.9.0)\n",
            "Requirement already satisfied: httpcore==1.* in /usr/local/lib/python3.11/dist-packages (from httpx<1->gigachat>=0.1.35->gigachain_community) (1.0.9)\n",
            "Requirement already satisfied: h11>=0.16 in /usr/local/lib/python3.11/dist-packages (from httpcore==1.*->httpx<1->gigachat>=0.1.35->gigachain_community) (0.16.0)\n",
            "Requirement already satisfied: jsonpointer>=1.9 in /usr/local/lib/python3.11/dist-packages (from jsonpatch<2.0,>=1.33->gigachain-core<0.3.0,>=0.2.38post2->gigachain_community) (3.0.0)\n",
            "Requirement already satisfied: backoff>=1.10.0 in /usr/local/lib/python3.11/dist-packages (from langfuse<3.0.0,>=2.41.0->gigachain-core<0.3.0,>=0.2.38post2->gigachain_community) (2.2.1)\n",
            "Requirement already satisfied: wrapt<2.0,>=1.14 in /usr/local/lib/python3.11/dist-packages (from langfuse<3.0.0,>=2.41.0->gigachain-core<0.3.0,>=0.2.38post2->gigachain_community) (1.17.2)\n",
            "Requirement already satisfied: annotated-types>=0.6.0 in /usr/local/lib/python3.11/dist-packages (from pydantic<3,>=1->gigachain<0.3.0,>=0.2.16->gigachain_community) (0.7.0)\n",
            "Requirement already satisfied: pydantic-core==2.33.2 in /usr/local/lib/python3.11/dist-packages (from pydantic<3,>=1->gigachain<0.3.0,>=0.2.16->gigachain_community) (2.33.2)\n",
            "Requirement already satisfied: typing-inspection>=0.4.0 in /usr/local/lib/python3.11/dist-packages (from pydantic<3,>=1->gigachain<0.3.0,>=0.2.16->gigachain_community) (0.4.1)\n",
            "Requirement already satisfied: mypy-extensions>=0.3.0 in /usr/local/lib/python3.11/dist-packages (from typing-inspect<1,>=0.4.0->dataclasses-json<0.7,>=0.5.7->gigachain_community) (1.1.0)\n",
            "Requirement already satisfied: sniffio>=1.1 in /usr/local/lib/python3.11/dist-packages (from anyio->httpx<1->gigachat>=0.1.35->gigachain_community) (1.3.1)\n"
          ]
        }
      ]
    },
    {
      "cell_type": "code",
      "source": [
        "from langchain_community.chat_models.gigachat import GigaChat"
      ],
      "metadata": {
        "id": "9VG5IBVW7-R6"
      },
      "execution_count": 19,
      "outputs": []
    },
    {
      "cell_type": "code",
      "source": [
        "credentials=\"NmZjNjg0NjktZDI2ZS00M2FmLTk0NmMtMTdmODljNjM4ZWZmOjBiZmQ1ZDI2LTczODUtNDQxYi04OWQyLWJlNTUzN2QzZWI4NQ==\""
      ],
      "metadata": {
        "id": "UUf0UsF38Ofo"
      },
      "execution_count": 20,
      "outputs": []
    },
    {
      "cell_type": "code",
      "source": [
        "def load_user_prompt(file_path): # функция загрузки user_prompt из txt файла\n",
        "    with open(file_path, 'r', encoding='utf-8') as file:\n",
        "        return file.read().strip()"
      ],
      "metadata": {
        "id": "GOw-y5eD8nJN"
      },
      "execution_count": 21,
      "outputs": []
    },
    {
      "cell_type": "code",
      "source": [
        "SYSTEM_PROMPT = \"\"\"\n",
        "Роль:\n",
        "Ты — высококвалифицированный геймдизайнер и сценарист с многолетним опытом создания нарративных RPG. Твои работы известны глубокой проработкой сюжетных ветвлений, атмосферностью и интерактивностью.\n",
        "Правила:\n",
        "1. Строго следуй заданию – не отвечай на вопросы, не связанные с созданием квеста.\n",
        "2. Избегай ненормативной лексики – если она встречается во входных данных, заменяй на нейтральные формулировки.\n",
        "3. Соблюдай формат – вывод только в JSON, без пояснений, комментариев или отклонений от структуры.\n",
        "Задание:\n",
        "На вход подаются три параметра:\n",
        "* Жанр (например, \"киберпанк\"),\n",
        "* Главный герой (например, \"хакер-одиночка\"),\n",
        "* Цель (например, \"взломать замок на двери, найти и забрать чип с вирусом\").\n",
        "Требуется создать:\n",
        "1. Квест в жанре RPG (5–10 сцен) в формате JSON.\n",
        "2. Обязательные элементы каждой сцены:\n",
        "   * scene_id – уникальный ID для ссылок через next_scene.\n",
        "   * text – описание ситуации, окружения, диалогов или действий.\n",
        "   * choices – список вариантов выбора игрока (минимум 2). Каждый выбор содержит:\n",
        "      * text – описание действия,\n",
        "      * next_scene : ID следующей сцены.\n",
        "3. Обязательные условия:\n",
        "   * Минимум одна развилка с последствиями (разные ветки сюжета).\n",
        "   * Глубина одной альтернативной ветки – не менее 3 сцен (основная ветвь не считается).\n",
        "   * В каждой сцене минимум 2 выбора (кроме финальных сцен).\n",
        "Дополнительные требования к качеству:\n",
        "* Атмосфера: Описания должны передавать настроение жанра (например, для киберпанка – неоновые улицы, корпоративный контроль, техно-детали).\n",
        "* Логика: Выборы игрока должны влиять на сюжет (например, агрессивный подход приводит к бою, скрытный – к обходу препятствий).\n",
        "* Вариативность: Хотя бы одна сцена должна иметь неочевидный выбор (например, довериться NPC или украсть его данные).\n",
        "* * Основные требования к сюжету:\n",
        "* История должна быть структурирована по схеме: завязка -> конфликт -> решение проблемы -> развязка.\n",
        "* Персонажи (включая NPC) должны реагировать на выбор игрока, влияя на сюжет.\n",
        "* В мире должны присутствовать:\n",
        "   * Спутники (наёмные союзники, временные попутчики).\n",
        "   * Ключевые персонажи (важные для основного сюжета).\n",
        "   * Фоновые NPC (торговцы, стражники, обыватели).\n",
        "   * Закадровые персонажи (легендарные герои, исторические фигуры, упомянутые в книгах/диалогах).\n",
        "Диалоги:\n",
        "* Смысл и уместность: Персонажи говорят только то, что соответствует их роли и ситуации.\n",
        "   * Пример: Крестьянин не будет рассуждать о магических рунах, если он не связан с арканами.\n",
        "   * Пример: Если город атакуют, диалоги должны отражать панику/срочность, а не бытовые темы.\n",
        "* Характер речи зависит от:\n",
        "   * Пола, возраста, статуса, образования и профессии персонажа.\n",
        "      * Пример: Старый маг говорит мудро и архаично, юный вор — сленгово и дерзко.\n",
        "* Интерактивность: Реакция NPC на игрока должна зависеть от его репутации, класса и прошлых решений.\n",
        "   * Пример: Рыцаря встречают с почётом, бродягу — с подозрением.\n",
        "Запреты:\n",
        "* Персонажи не должны:\n",
        "   * Говорить неестественно (например, ребёнок с лексикой учёного).\n",
        "   * Игнорировать экстренные события (например, обсуждать урожай во время битвы).\n",
        "   * Быть статичными (их отношение к игроку может меняться).\n",
        "\n",
        "\n",
        "Пример вывода (JSON):\n",
        "{\n",
        "\n",
        "\n",
        "  \"scenes\": [\n",
        "    {\n",
        "      \"scene_id\": \"start\",\n",
        "      \"text\": \"Вы – {герой}. {Описание начальной ситуации}. Вокруг шумят неоновые вывески, а цель – {цель}.\",\n",
        "      \"choices\": [\n",
        "        {\n",
        "          \"text\": \"Попробовать взломать дверь напрямую.\",\n",
        "          \"next_scene\": \"hacking_attempt\"\n",
        "        },\n",
        "        {\n",
        "          \"text\": \"Найти обходной путь через вентиляцию.\",\n",
        "          \"next_scene\": \"vent_route\"\n",
        "        }\n",
        "      ]\n",
        "    },\n",
        "    {\n",
        "      \"scene_id\": \"hacking_attempt\",\n",
        "      \"text\": \"Взлом запущен... но система защиты обнаружила вас!\",\n",
        "      \"choices\": [\n",
        "        {\n",
        "          \"text\": \"Быстро отключиться и скрыться.\",\n",
        "          \"next_scene\": \"escape\"\n",
        "        },\n",
        "        {\n",
        "          \"text\": \"Попробовать подавить защиту вирусом.\",\n",
        "          \"next_scene\": \"virus_upload\"\n",
        "        }\n",
        "      ]\n",
        "    }\n",
        "    // ... остальные сцены (5-10)\n",
        "  ]\n",
        "\n",
        "\n",
        "Критерии успешного выполнения:\n",
        "* Четкое следование JSON-формату.\n",
        "* Глубина ветвления (одна альтернативная ветка из 3+ сцен).\n",
        "* Соответствие жанру и логике персонажа.\n",
        "* Интерактивность (выборы с последствиями).\n",
        "* Соответствие правилам построения сюжета.\n",
        "Важно: Не добавляй пояснений – только чистый JSON!\n",
        "\"\"\""
      ],
      "metadata": {
        "id": "-LSjGLc89_CN"
      },
      "execution_count": 22,
      "outputs": []
    },
    {
      "cell_type": "code",
      "source": [
        "from httpx import ReadTimeout"
      ],
      "metadata": {
        "id": "fFMBjGytBUSx"
      },
      "execution_count": 29,
      "outputs": []
    },
    {
      "cell_type": "code",
      "source": [
        "# функция для генерации квеста\n",
        "# Загружаем user_prompt\n",
        "def generate_rpg_quest(user_prompt_txt_path, credentials):\n",
        "    user_prompt = load_user_prompt(user_prompt_txt_path)\n",
        "\n",
        "    try:\n",
        "        giga = GigaChat(\n",
        "            credentials=credentials,\n",
        "            verify_ssl_certs=False,\n",
        "            timeout=360\n",
        "        )\n",
        "\n",
        "        full_prompt = f\"{SYSTEM_PROMPT}\\n\\nВходные данные:\\n{user_prompt}\\n\\nВывод только в JSON!\"\n",
        "\n",
        "        response = giga.invoke(full_prompt)\n",
        "\n",
        "        response_text = response.content\n",
        "\n",
        "        try:\n",
        "            quest_data = json.loads(response_text)\n",
        "            return quest_data\n",
        "        except json.JSONDecodeError as e:\n",
        "            print(f\"Ошибка парсинга JSON: {e}\")\n",
        "            print(f\"Ответ модели: {response_text}\")\n",
        "            return {\"error\": \"invalid_json\"}\n",
        "\n",
        "    except ReadTimeout:\n",
        "        print(\"Ошибка: превышено время ожидания ответа от GigaChat.\")\n",
        "        return {\"error\": \"timeout\"}\n",
        "    except Exception as e:\n",
        "        print(f\"Критическая ошибка: {str(e)}\")\n",
        "        return {\"error\": str(e)}\n"
      ],
      "metadata": {
        "id": "EPorlTgf-Gl1"
      },
      "execution_count": 30,
      "outputs": []
    },
    {
      "cell_type": "code",
      "source": [
        "import json"
      ],
      "metadata": {
        "id": "Pf6bBJpPABB9"
      },
      "execution_count": 31,
      "outputs": []
    },
    {
      "cell_type": "code",
      "source": [
        "if __name__ == \"__main__\":\n",
        "    # Путь к файлу с user_prompt (например, \"input.txt\")\n",
        "    USER_PROMPT_PATH = \"/content/input.txt\"  # Замените на ваш путь\n",
        "\n",
        "    # Авторизационный ключ GigaChat\n",
        "    CREDENTIALS = credentials  # Замените на реальный ключ\n",
        "\n",
        "    # Генерация квеста\n",
        "    quest = generate_rpg_quest(USER_PROMPT_PATH, CREDENTIALS)\n",
        "\n",
        "    # Сохранение результата в файл\n",
        "    with open(\"generated_quest.json\", \"w\", encoding=\"utf-8\") as f:\n",
        "        json.dump(quest, f, indent=2, ensure_ascii=False)\n",
        "\n",
        "    print(\"Квест успешно сгенерирован и сохранён в generated_quest.json!\")"
      ],
      "metadata": {
        "colab": {
          "base_uri": "https://localhost:8080/"
        },
        "id": "TTvfHTnE-sfD",
        "outputId": "67d555b8-7d03-467f-cb7e-ed8862f29f3d"
      },
      "execution_count": 32,
      "outputs": [
        {
          "output_type": "stream",
          "name": "stdout",
          "text": [
            "Квест успешно сгенерирован и сохранён в generated_quest.json!\n"
          ]
        }
      ]
    }
  ]
}