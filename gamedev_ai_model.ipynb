{
 "cells": [
  {
   "cell_type": "code",
   "execution_count": 83,
   "metadata": {
    "colab": {
     "base_uri": "https://localhost:8080/"
    },
    "id": "2xpSmX_N6SpY",
    "outputId": "74553ab1-41db-4e7d-f4a8-261afdfe86a3"
   },
   "outputs": [
    {
     "name": "stdout",
     "output_type": "stream",
     "text": [
      "Requirement already satisfied: gigachain_community in ./.venv/lib/python3.13/site-packages (100.0.4)\n",
      "Note: you may need to restart the kernel to use updated packages.\n"
     ]
    }
   ],
   "source": [
    "pip install gigachain_community"
   ]
  },
  {
   "cell_type": "code",
   "execution_count": 84,
   "metadata": {
    "id": "9VG5IBVW7-R6"
   },
   "outputs": [],
   "source": [
    "from langchain_community.chat_models.gigachat import GigaChat"
   ]
  },
  {
   "cell_type": "code",
   "execution_count": 85,
   "metadata": {
    "id": "UUf0UsF38Ofo"
   },
   "outputs": [],
   "source": [
    "credentials=\"NmZjNjg0NjktZDI2ZS00M2FmLTk0NmMtMTdmODljNjM4ZWZmOjBiZmQ1ZDI2LTczODUtNDQxYi04OWQyLWJlNTUzN2QzZWI4NQ==\""
   ]
  },
  {
   "cell_type": "code",
   "execution_count": 86,
   "metadata": {
    "id": "GOw-y5eD8nJN"
   },
   "outputs": [],
   "source": [
    "def load_user_prompt(file_path): # функция загрузки user_prompt из txt файла\n",
    "    with open(file_path, 'r', encoding='utf-8') as file:\n",
    "        return file.read().strip()"
   ]
  },
  {
   "cell_type": "code",
   "execution_count": 87,
   "metadata": {
    "id": "-LSjGLc89_CN"
   },
   "outputs": [],
   "source": [
    "SYSTEM_PROMPT = \"\"\"\n",
    "Роль:\n",
    "Ты — высококвалифицированный геймдизайнер и сценарист с многолетним опытом создания нарративных RPG. Твои работы известны глубокой проработкой сюжетных ветвлений, атмосферностью и интерактивностью.\n",
    "Правила:\n",
    "1. Строго следуй заданию – не отвечай на вопросы, не связанные с созданием квеста.\n",
    "2. Избегай ненормативной лексики – если она встречается во входных данных, заменяй на нейтральные формулировки.\n",
    "3. Соблюдай формат – вывод только в JSON, без пояснений, комментариев или отклонений от структуры.\n",
    "Задание:\n",
    "На вход подаются три параметра:\n",
    "* Жанр (например, \"киберпанк\"),\n",
    "* Главный герой (например, \"хакер-одиночка\"),\n",
    "* Цель (например, \"взломать замок на двери, найти и забрать чип с вирусом\").\n",
    "Требуется создать:\n",
    "1. Квест в жанре RPG (5–10 сцен) в формате JSON.\n",
    "2. Обязательные элементы каждой сцены:\n",
    "   * scene_id – уникальный ID для ссылок через next_scene.\n",
    "   * text – описание ситуации, окружения, диалогов или действий.\n",
    "   * choices – список вариантов выбора игрока (минимум 2). Каждый выбор содержит:\n",
    "      * text – описание действия,\n",
    "      * next_scene : ID следующей сцены.\n",
    "3. Обязательные условия:\n",
    "   * Минимум одна развилка с последствиями (разные ветки сюжета).\n",
    "   * Глубина одной альтернативной ветки – не менее 3 сцен (основная ветвь не считается).\n",
    "   * В каждой сцене минимум 2 выбора (кроме финальных сцен).\n",
    "Дополнительные требования к качеству:\n",
    "* Атмосфера: Описания должны передавать настроение жанра (например, для киберпанка – неоновые улицы, корпоративный контроль, техно-детали).\n",
    "* Логика: Выборы игрока должны влиять на сюжет (например, агрессивный подход приводит к бою, скрытный – к обходу препятствий).\n",
    "* Вариативность: Хотя бы одна сцена должна иметь неочевидный выбор (например, довериться NPC или украсть его данные).\n",
    "* * Основные требования к сюжету:\n",
    "* История должна быть структурирована по схеме: завязка -> конфликт -> решение проблемы -> развязка.\n",
    "* Персонажи (включая NPC) должны реагировать на выбор игрока, влияя на сюжет.\n",
    "* В мире должны присутствовать:\n",
    "   * Спутники (наёмные союзники, временные попутчики).\n",
    "   * Ключевые персонажи (важные для основного сюжета).\n",
    "   * Фоновые NPC (торговцы, стражники, обыватели).\n",
    "   * Закадровые персонажи (легендарные герои, исторические фигуры, упомянутые в книгах/диалогах).\n",
    "Диалоги:\n",
    "* Смысл и уместность: Персонажи говорят только то, что соответствует их роли и ситуации.\n",
    "   * Пример: Крестьянин не будет рассуждать о магических рунах, если он не связан с арканами.\n",
    "   * Пример: Если город атакуют, диалоги должны отражать панику/срочность, а не бытовые темы.\n",
    "* Характер речи зависит от:\n",
    "   * Пола, возраста, статуса, образования и профессии персонажа.\n",
    "      * Пример: Старый маг говорит мудро и архаично, юный вор — сленгово и дерзко.\n",
    "* Интерактивность: Реакция NPC на игрока должна зависеть от его репутации, класса и прошлых решений.\n",
    "   * Пример: Рыцаря встречают с почётом, бродягу — с подозрением.\n",
    "Запреты:\n",
    "* Персонажи не должны:\n",
    "   * Говорить неестественно (например, ребёнок с лексикой учёного).\n",
    "   * Игнорировать экстренные события (например, обсуждать урожай во время битвы).\n",
    "   * Быть статичными (их отношение к игроку может меняться).\n",
    "\n",
    "\n",
    "Пример вывода (JSON):\n",
    "{\n",
    "\n",
    "\n",
    "  \"scenes\": [\n",
    "    {\n",
    "      \"scene_id\": \"start\",\n",
    "      \"text\": \"Вы – {герой}. {Описание начальной ситуации}. Вокруг шумят неоновые вывески, а цель – {цель}.\",\n",
    "      \"choices\": [\n",
    "        {\n",
    "          \"text\": \"Попробовать взломать дверь напрямую.\",\n",
    "          \"next_scene\": \"hacking_attempt\"\n",
    "        },\n",
    "        {\n",
    "          \"text\": \"Найти обходной путь через вентиляцию.\",\n",
    "          \"next_scene\": \"vent_route\"\n",
    "        }\n",
    "      ]\n",
    "    },\n",
    "    {\n",
    "      \"scene_id\": \"hacking_attempt\",\n",
    "      \"text\": \"Взлом запущен... но система защиты обнаружила вас!\",\n",
    "      \"choices\": [\n",
    "        {\n",
    "          \"text\": \"Быстро отключиться и скрыться.\",\n",
    "          \"next_scene\": \"escape\"\n",
    "        },\n",
    "        {\n",
    "          \"text\": \"Попробовать подавить защиту вирусом.\",\n",
    "          \"next_scene\": \"virus_upload\"\n",
    "        }\n",
    "      ]\n",
    "    }\n",
    "    // ... остальные сцены (5-10)\n",
    "  ]\n",
    "\n",
    "\n",
    "Критерии успешного выполнения:\n",
    "* Четкое следование JSON-формату.\n",
    "* Глубина ветвления (одна альтернативная ветка из 3+ сцен).\n",
    "* Соответствие жанру и логике персонажа.\n",
    "* Интерактивность (выборы с последствиями).\n",
    "* Соответствие правилам построения сюжета.\n",
    "Важно: Не добавляй пояснений – только чистый JSON!\n",
    "\"\"\""
   ]
  },
  {
   "cell_type": "code",
   "execution_count": 88,
   "metadata": {
    "id": "fFMBjGytBUSx"
   },
   "outputs": [],
   "source": [
    "from httpx import ReadTimeout"
   ]
  },
  {
   "cell_type": "code",
   "execution_count": 89,
   "metadata": {
    "id": "EPorlTgf-Gl1"
   },
   "outputs": [],
   "source": [
    "# функция для генерации квеста\n",
    "# Загружаем user_prompt\n",
    "def generate_rpg_quest(user_prompt_txt_path, credentials):\n",
    "    user_prompt = load_user_prompt(user_prompt_txt_path)\n",
    "\n",
    "    try:\n",
    "        giga = GigaChat(\n",
    "            credentials=credentials,\n",
    "            verify_ssl_certs=False,\n",
    "            timeout=360,\n",
    "            model=\"GigaChat-2-Max\"\n",
    "        )\n",
    "\n",
    "        full_prompt = f\"{SYSTEM_PROMPT}\\n\\nВходные данные:\\n{user_prompt}\\n\\nВывод только в JSON!\"\n",
    "\n",
    "        response = giga.invoke(full_prompt)\n",
    "\n",
    "        response_text = response.content\n",
    "\n",
    "        return response_text\n",
    "\n",
    "    except ReadTimeout:\n",
    "        print(\"Ошибка: превышено время ожидания ответа от GigaChat.\")\n",
    "        return {\"error\": \"timeout\"}\n",
    "    except Exception as e:\n",
    "        print(f\"Критическая ошибка: {str(e)}\")\n",
    "        return {\"error\": str(e)}\n"
   ]
  },
  {
   "cell_type": "code",
   "execution_count": 90,
   "metadata": {
    "id": "Pf6bBJpPABB9"
   },
   "outputs": [],
   "source": [
    "import json"
   ]
  },
  {
   "cell_type": "code",
   "execution_count": 91,
   "metadata": {
    "colab": {
     "base_uri": "https://localhost:8080/"
    },
    "id": "TTvfHTnE-sfD",
    "outputId": "67d555b8-7d03-467f-cb7e-ed8862f29f3d"
   },
   "outputs": [
    {
     "name": "stdout",
     "output_type": "stream",
     "text": [
      "Квест успешно сгенерирован и сохранён в text_output/example-3.txt!\n"
     ]
    }
   ],
   "source": [
    "if __name__ == \"__main__\":\n",
    "    # Путь к файлу с user_prompt (например, \"input.txt\")\n",
    "    USER_PROMPT_PATH = \"input/example-3.txt\"  # Замените на ваш путь\n",
    "\n",
    "    # Авторизационный ключ GigaChat\n",
    "    CREDENTIALS = credentials  # Замените на реальный ключ\n",
    "\n",
    "    # Генерация квеста\n",
    "    quest = generate_rpg_quest(USER_PROMPT_PATH, CREDENTIALS)\n",
    "\n",
    "    # Сохранение результата в файл\n",
    "    with open(\"text_output/example-3.txt\", \"w\", encoding=\"utf-8\") as f:\n",
    "        f.write(quest)\n",
    "\n",
    "    print(\"Квест успешно сгенерирован и сохранён в text_output/example-3.txt!\")"
   ]
  },
  {
   "cell_type": "code",
   "execution_count": 93,
   "metadata": {},
   "outputs": [
    {
     "name": "stdout",
     "output_type": "stream",
     "text": [
      "Запускаем обработку квеста: example-3\n",
      "==================================================\n",
      "Обрабатываем квест: example-3\n",
      "Входной файл: text_output/example-3.txt\n",
      "Вывод process.py:\n",
      "Результат валидации: Все проверки пройдены успешно\n",
      "JSON файл сохранен: generated_quests/example-3.json\n",
      "\n",
      "✅ Квест example-3 успешно обработан и валидирован!\n",
      "✅ Файл generated_quests/example-3.json создан\n",
      "\n",
      "🎉 Обработка завершена успешно!\n",
      "Квест example-3 готов к использованию в generated_quests/example-3.json\n"
     ]
    }
   ],
   "source": [
    "import subprocess\n",
    "import os\n",
    "from time import sleep\n",
    "\n",
    "def process_quest_with_validation(quest_name, max_retries=3, credentials=None, user_prompt_path=None):\n",
    "    \"\"\"\n",
    "    Обрабатывает квест через process.py, который:\n",
    "    1. Читает text_output/{quest_name}.txt\n",
    "    2. Конвертирует в JSON\n",
    "    3. Сохраняет в generated_quests/{quest_name}.json\n",
    "    4. Выполняет валидацию\n",
    "\n",
    "    При ошибках в stderr перезапускает генерацию квеста (до max_retries раз)\n",
    "    \"\"\"\n",
    "    retry_count = 0\n",
    "\n",
    "    while retry_count < max_retries:\n",
    "        try:\n",
    "            # Проверяем существование входного файла\n",
    "            input_file = f\"text_output/{quest_name}.txt\"\n",
    "            if not os.path.exists(input_file):\n",
    "                print(f\"Ошибка: файл {input_file} не найден\")\n",
    "                return False\n",
    "\n",
    "            print(f\"Обрабатываем квест: {quest_name} (попытка {retry_count + 1}/{max_retries})\")\n",
    "            print(f\"Входной файл: {input_file}\")\n",
    "\n",
    "            # Запускаем process.py\n",
    "            result = subprocess.run([\n",
    "                'python3', 'process.py', f\"text_output/{quest_name}.txt\", \"-o\", f\"generated_quests/{quest_name}.json\"\n",
    "            ],\n",
    "            capture_output=True,\n",
    "            text=True\n",
    "            )\n",
    "\n",
    "            # Выводим результат\n",
    "            if result.stdout:\n",
    "                print(\"Вывод process.py:\")\n",
    "                print(result.stdout)\n",
    "\n",
    "            if result.stderr:\n",
    "                print(\"Ошибки:\")\n",
    "                print(result.stderr)\n",
    "\n",
    "                # Если есть ошибки и мы можем перегенерировать квест\n",
    "                if credentials is not None and user_prompt_path is not None:\n",
    "                    retry_count += 1\n",
    "                    if retry_count < max_retries:\n",
    "                        print(f\"\\n⚠️ Обнаружены ошибки, перегенерируем квест (попытка {retry_count + 1}/{max_retries})\")\n",
    "\n",
    "                        # Перегенерируем квест\n",
    "                        from your_generation_module import generate_rpg_quest  # Импортируем функцию генерации\n",
    "\n",
    "                        quest = generate_rpg_quest(user_prompt_path, credentials)\n",
    "\n",
    "                        # Сохраняем новый вариант\n",
    "                        with open(input_file, \"w\", encoding=\"utf-8\") as f:\n",
    "                            f.write(quest)\n",
    "\n",
    "                        print(\"Квест перегенерирован, повторяем обработку...\")\n",
    "                        sleep(1)\n",
    "                        continue\n",
    "\n",
    "            if result.returncode == 0:\n",
    "                print(f\"✅ Квест {quest_name} успешно обработан и валидирован!\")\n",
    "\n",
    "                # Проверяем, что файл создался\n",
    "                output_file = f\"generated_quests/{quest_name}.json\"\n",
    "                if os.path.exists(output_file):\n",
    "                    print(f\"✅ Файл {output_file} создан\")\n",
    "                else:\n",
    "                    print(f\"⚠️ Файл {output_file} не найден\")\n",
    "\n",
    "                return True\n",
    "            else:\n",
    "                print(f\"❌ Ошибка при обработке квеста {quest_name}\")\n",
    "                return False\n",
    "\n",
    "        except Exception as e:\n",
    "            print(f\"Критическая ошибка: {e}\")\n",
    "            return False\n",
    "\n",
    "    print(f\"❌ Достигнуто максимальное количество попыток ({max_retries})\")\n",
    "    return False\n",
    "\n",
    "# Обрабатываем example-3\n",
    "if __name__ == \"__main__\":\n",
    "    quest_name = \"example-3\"\n",
    "    max_retries = 3  # Максимальное количество попыток перегенерации\n",
    "    credentials = \"your_credentials_here\"  # Ваши учетные данные GigaChat\n",
    "    user_prompt_path = \"input/example-3.txt\"  # Путь к файлу с промптом\n",
    "\n",
    "    print(f\"Запускаем обработку квеста: {quest_name}\")\n",
    "    print(\"=\" * 50)\n",
    "\n",
    "    success = process_quest_with_validation(\n",
    "        quest_name=quest_name,\n",
    "        max_retries=max_retries,\n",
    "        credentials=credentials,\n",
    "        user_prompt_path=user_prompt_path\n",
    "    )\n",
    "    \n",
    "    if success:\n",
    "        print(\"\\n🎉 Обработка завершена успешно!\")\n",
    "        print(f\"Квест {quest_name} готов к использованию в generated_quests/{quest_name}.json\")\n",
    "    else:\n",
    "        print(\"\\n❌ Обработка завершилась с ошибками\")\n",
    "        print(\"Проверьте логи выше для диагностики проблем\")\n"
   ]
  },
  {
   "cell_type": "code",
   "execution_count": null,
   "metadata": {},
   "outputs": [],
   "source": []
  },
  {
   "cell_type": "code",
   "execution_count": null,
   "metadata": {},
   "outputs": [],
   "source": []
  }
 ],
 "metadata": {
  "colab": {
   "provenance": []
  },
  "kernelspec": {
   "display_name": ".venv (3.13.5)",
   "language": "python",
   "name": "python3"
  },
  "language_info": {
   "codemirror_mode": {
    "name": "ipython",
    "version": 3
   },
   "file_extension": ".py",
   "mimetype": "text/x-python",
   "name": "python",
   "nbconvert_exporter": "python",
   "pygments_lexer": "ipython3",
   "version": "3.13.5"
  }
 },
 "nbformat": 4,
 "nbformat_minor": 0
}
