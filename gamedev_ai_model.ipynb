{
  "cells": [
    {
      "cell_type": "code",
      "execution_count": 83,
      "metadata": {
        "colab": {
          "base_uri": "https://localhost:8080/"
        },
        "id": "2xpSmX_N6SpY",
        "outputId": "74553ab1-41db-4e7d-f4a8-261afdfe86a3"
      },
      "outputs": [
        {
          "name": "stdout",
          "output_type": "stream",
          "text": [
            "Requirement already satisfied: gigachain_community in ./.venv/lib/python3.13/site-packages (100.0.4)\n",
            "Note: you may need to restart the kernel to use updated packages.\n"
          ]
        }
      ],
      "source": [
        "pip install gigachain_community"
      ]
    },
    {
      "cell_type": "code",
      "execution_count": 84,
      "metadata": {
        "id": "9VG5IBVW7-R6"
      },
      "outputs": [],
      "source": [
        "from langchain_community.chat_models.gigachat import GigaChat"
      ]
    },
    {
      "cell_type": "code",
      "execution_count": 85,
      "metadata": {
        "id": "UUf0UsF38Ofo"
      },
      "outputs": [],
      "source": [
        "credentials=\"NmZjNjg0NjktZDI2ZS00M2FmLTk0NmMtMTdmODljNjM4ZWZmOjBiZmQ1ZDI2LTczODUtNDQxYi04OWQyLWJlNTUzN2QzZWI4NQ==\""
      ]
    },
    {
      "cell_type": "code",
      "execution_count": 86,
      "metadata": {
        "id": "GOw-y5eD8nJN"
      },
      "outputs": [],
      "source": [
        "def load_user_prompt(file_path): # функция загрузки user_prompt из txt файла\n",
        "    with open(file_path, 'r', encoding='utf-8') as file:\n",
        "        return file.read().strip()"
      ]
    },
    {
      "cell_type": "code",

      "execution_count": null,
      "metadata": {
        "id": "-LSjGLc89_CN"
      },
      "outputs": [],
      "source": [
        "SYSTEM_PROMPT = \"\"\"\n",
        "ВЫВОД ДОЛЖЕН НАЧИНАТЬСЯ СТРОГО С {\"scenes\": [ И НИЧЕГО ПЕРЕД ЭТИМ!\n",
        "Роль: Профессиональный геймдизайнер RPG, специализирующийся на ветвящихся сюжетах и атмосферных мирах.\n",
        "\n",
        "Требования к генерации:\n",
        "1. Формат:\n",
        "- Строго валидный JSON\n",
        "- Только объект с массивом \"scenes\"\n",
        "- Никаких посторонних символов/комментариев\n",
        "\n",
        "2. Входные данные (заменять фигурными скобками):\n",
        "- Жанр: {жанр}\n",
        "- Герой: {герой} \n",
        "- Цель: {цель}\n",
        "\n",
        "3. Структура квеста:\n",
        "- 5-10 сцен\n",
        "- Минимум 1 развилка с альтернативной веткой (3+ сцены)\n",
        "- Все сцены кроме финальных: 2 или 3 выбора\n",
        "- Финальные сцены: choices = []\n",
        "\n",
        "4. Технические требования:\n",
        "- Все scene_id: lowercase_underscore\n",
        "- Длина text в сцене: 100-500 символов\n",
        "- Длина text в выборе: 20-100 символов\n",
        "- Все next_scene должны существовать\n",
        "- Недопустимы циклы в сценах\n",
        "\n",
        "5. Качественные критерии:\n",
        "- Яркая передача атмосферы жанра\n",
        "- Логичные последствия выборов\n",
        "- Минимум 1 неочевидный выбор\n",
        "- Реалистичные NPC с динамичными реакциями\n",
        "- Соответствие структуре: завязка->конфликт->развязка\n",
        "\n",
        "Процесс генерации:\n",
        "1. Создать outline с scene_id\n",
        "2. Проверить ветвление\n",
        "3. Наполнить контентом\n",
        "4. Валидировать JSON\n",
        "5. Убедиться в выполнении всех требований\n",
        "\n",
        "Запрещено:\n",
        "- Нарушать формат JSON\n",
        "- Создавать невалидные ссылки между сценами\n",
        "- Использовать неподходящий контент\n",
        "- Добавлять пояснения к выводу\n",
        "\n",
        "Шаблон для заполнения:\n",
        "{\n",
        "  \"scenes\": [\n",
        "    {\n",
        "      \"scene_id\": \"start\",\n",
        "      \"text\": \"Вы - {герой} в мире {жанр}. {Атмосферное описание}. Ваша цель: {цель}.\",\n",
        "      \"choices\": [\n",
        "        {\n",
        "          \"text\": \"{Логичный выбор 1}\",\n",
        "          \"next_scene\": \"scene_1\"\n",
        "        },\n",
        "        {\n",
        "          \"text\": \"{Альтернативный выбор 2}\",\n",
        "          \"next_scene\": \"scene_2\"\n",
        "        }\n",
        "      ]\n",
        "    }\n",
        "    // Дополнить 4-9 сценами\n",
        "  ]\n",
        "}\n",
        "\n",
        "Жесткие технические требования:\n",
        "1. Вывод ТОЛЬКО в формате JSON без каких-либо посторонних символов\n",
        "2. Начинаться должен строго с: {\"scenes\": [\n",
        "3. Заканчиваться строго на: ]}\n",
        "4. Никаких комментариев, пояснений или оберток\n",
        "\n",
        "ВАЖНО: вывод должен быть в чистом JSON, без пояснений или комментариев. Поле scenes обязательно должно быть\n",
        "\"\"\""
      ]
    },
    {
      "cell_type": "code",
      "execution_count": 88,
      "metadata": {
        "id": "EPorlTgf-Gl1"
      },
      "outputs": [],
      "source": [
        "from httpx import ReadTimeout"
      ]
    },
    {
      "cell_type": "code",
      "execution_count": 89,
      "metadata": {
        "id": "EPorlTgf-Gl1"
      },
      "outputs": [],
      "source": [
        "# функция для генерации квеста\n",
        "# Загружаем user_prompt\n",
        "def generate_rpg_quest(user_prompt_txt_path, credentials):\n",
        "    user_prompt = load_user_prompt(user_prompt_txt_path)\n",
        "\n",
        "    try:\n",
        "        giga = GigaChat(\n",
        "            credentials=credentials,\n",
        "            verify_ssl_certs=False,\n",
        "            timeout=360,\n",
        "            model=\"GigaChat-2-Max\"\n",
        "        )\n",
        "\n",
        "        full_prompt = f\"{SYSTEM_PROMPT}\\n\\nВходные данные:\\n{user_prompt}\\n\\nВывод только в JSON!\"\n",
        "\n",
        "        response = giga.invoke(full_prompt)\n",
        "\n",
        "        response_text = response.content\n",
        "\n",
        "        return response_text\n",
        "\n",
        "    except ReadTimeout:\n",
        "        print(\"Ошибка: превышено время ожидания ответа от GigaChat.\")\n",
        "        return {\"error\": \"timeout\"}\n",
        "    except Exception as e:\n",
        "        print(f\"Критическая ошибка: {str(e)}\")\n",
        "        return {\"error\": str(e)}\n"
      ]
    },
    {
      "cell_type": "code",
      "execution_count": 90,
      "metadata": {
        "id": "Pf6bBJpPABB9"
      },
      "outputs": [],
      "source": [
        "import json"
      ]
    },
    {
      "cell_type": "code",
      "execution_count": 91,
      "metadata": {
        "colab": {
          "base_uri": "https://localhost:8080/"
        },
        "id": "TTvfHTnE-sfD",
        "outputId": "67d555b8-7d03-467f-cb7e-ed8862f29f3d"
      },
      "outputs": [
        {
          "name": "stdout",
          "output_type": "stream",
          "text": [
            "Квест успешно сгенерирован и сохранён в text_output/example-3.txt!\n"
          ]
        }
      ],
      "source": [
        "if __name__ == \"__main__\":\n",
        "    # Путь к файлу с user_prompt (например, \"input.txt\")\n",
        "    USER_PROMPT_PATH = \"input/example-3.txt\"  # Замените на ваш путь\n",
        "\n",
        "    # Авторизационный ключ GigaChat\n",
        "    CREDENTIALS = credentials  # Замените на реальный ключ\n",
        "\n",
        "    # Генерация квеста\n",
        "    quest = generate_rpg_quest(USER_PROMPT_PATH, CREDENTIALS)\n",
        "\n",
        "    # Сохранение результата в файл\n",
        "    with open(\"text_output/example-3.txt\", \"w\", encoding=\"utf-8\") as f:\n",
        "        f.write(quest)\n",
        "\n",
        "    print(\"Квест успешно сгенерирован и сохранён в text_output/example-3.txt!\")"
      ]
    },
    {
      "cell_type": "code",
      "execution_count": 94,
      "metadata": {},
      "outputs": [
        {
          "name": "stdout",
          "output_type": "stream",
          "text": [
            "Запускаем обработку квеста: invalid\n",
            "==================================================\n",
            "Обрабатываем квест: invalid\n",
            "Входной файл: text_output/invalid.txt\n",
            "Вывод process.py:\n",
            "Результат валидации: Файл не является валидным JSON. Ошибка: Expecting value: line 1 column 1 (char 0)\n",
            "\n",
            "❌ Ошибка при обработке квеста invalid\n",
            "\n",
            "❌ Обработка завершилась с ошибками\n",
            "Проверьте логи выше для диагностики проблем\n"
          ]
        }
      ],
      "source": [
        "import subprocess\n",
        "import os\n",
        "\n",
        "def process_quest_with_validation(quest_name):\n",
        "    \"\"\"\n",
        "    Обрабатывает квест через process.py, который:\n",
        "    1. Читает text_output/{quest_name}.txt\n",
        "    2. Конвертирует в JSON\n",
        "    3. Сохраняет в generated_quests/{quest_name}.json\n",
        "    4. Выполняет валидацию\n",
        "    \"\"\"\n",
        "    try:\n",
        "        # Проверяем существование входного файла\n",
        "        input_file = f\"text_output/{quest_name}.txt\"\n",
        "        if not os.path.exists(input_file):\n",
        "            print(f\"Ошибка: файл {input_file} не найден\")\n",
        "            return False\n",
        "        \n",
        "        print(f\"Обрабатываем квест: {quest_name}\")\n",
        "        print(f\"Входной файл: {input_file}\")\n",
        "        \n",
        "        # Запускаем process.py\n",
        "        result = subprocess.run([\n",
        "            'python3', 'process.py', f\"text_output/{quest_name}.txt\", \"-o\", f\"generated_quests/{quest_name}.json\"\n",
        "        ], \n",
        "        capture_output=True, \n",
        "        text=True\n",
        "        )\n",
        "        \n",
        "        # Выводим результат\n",
        "        if result.stdout:\n",
        "            print(\"Вывод process.py:\")\n",
        "            print(result.stdout)\n",
        "        \n",
        "        if result.stderr:\n",
        "            print(\"Ошибки:\")\n",
        "            print(result.stderr)\n",
        "        \n",
        "        if result.returncode == 0:\n",
        "            print(f\"✅ Квест {quest_name} успешно обработан и валидирован!\")\n",
        "            \n",
        "            # Проверяем, что файл создался\n",
        "            output_file = f\"generated_quests/{quest_name}.json\"\n",
        "            if os.path.exists(output_file):\n",
        "                print(f\"✅ Файл {output_file} создан\")\n",
        "            else:\n",
        "                print(f\"⚠️ Файл {output_file} не найден\")\n",
        "            \n",
        "            return True\n",
        "        else:\n",
        "            print(f\"❌ Ошибка при обработке квеста {quest_name}\")\n",
        "            return False\n",
        "            \n",
        "    except Exception as e:\n",
        "        print(f\"Критическая ошибка: {e}\")\n",
        "        return False\n",
        "\n",
        "# Обрабатываем example-3\n",
        "if __name__ == \"__main__\":\n",
        "    quest_name = \"invalid\"\n",
        "    \n",
        "    print(f\"Запускаем обработку квеста: {quest_name}\")\n",
        "    print(\"=\" * 50)\n",
        "    \n",
        "    success = process_quest_with_validation(quest_name)\n",
        "    \n",
        "    if success:\n",
        "        print(\"\\n🎉 Обработка завершена успешно!\")\n",
        "        print(f\"Квест {quest_name} готов к использованию в generated_quests/{quest_name}.json\")\n",
        "    else:\n",
        "        print(\"\\n❌ Обработка завершилась с ошибками\")\n",
        "        print(\"Проверьте логи выше для диагностики проблем\")"
      ]
    }
  ],
  "metadata": {
    "colab": {
      "provenance": []
    },
    "kernelspec": {
      "display_name": ".venv (3.13.5)",
      "language": "python",
      "name": "python3"
    },
    "language_info": {
      "codemirror_mode": {
        "name": "ipython",
        "version": 3
      },
      "file_extension": ".py",
      "mimetype": "text/x-python",
      "name": "python",
      "nbconvert_exporter": "python",
      "pygments_lexer": "ipython3",
      "version": "3.13.5"
    }
  },
  "nbformat": 4,
  "nbformat_minor": 0
}
