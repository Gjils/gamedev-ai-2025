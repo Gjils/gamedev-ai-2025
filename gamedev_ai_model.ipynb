{
 "cells": [
  {
   "cell_type": "code",
   "execution_count": 141,
   "metadata": {
    "colab": {
     "base_uri": "https://localhost:8080/"
    },
    "id": "2xpSmX_N6SpY",
    "outputId": "74553ab1-41db-4e7d-f4a8-261afdfe86a3"
   },
   "outputs": [
    {
     "name": "stdout",
     "output_type": "stream",
     "text": [
      "Defaulting to user installation because normal site-packages is not writeable\n",
      "Requirement already satisfied: gigachain_community in /Users/glafiraaverbah/Library/Python/3.9/lib/python/site-packages (0.2.16.post3)\n",
      "Requirement already satisfied: SQLAlchemy<3,>=1.4 in /Users/glafiraaverbah/Library/Python/3.9/lib/python/site-packages (from gigachain_community) (2.0.42)\n",
      "Requirement already satisfied: langsmith<0.2.0,>=0.1.112 in /Users/glafiraaverbah/Library/Python/3.9/lib/python/site-packages (from gigachain_community) (0.1.147)\n",
      "Requirement already satisfied: dataclasses-json<0.7,>=0.5.7 in /Users/glafiraaverbah/Library/Python/3.9/lib/python/site-packages (from gigachain_community) (0.6.7)\n",
      "Requirement already satisfied: gigachain<0.3.0,>=0.2.16 in /Users/glafiraaverbah/Library/Python/3.9/lib/python/site-packages (from gigachain_community) (0.2.16)\n",
      "Requirement already satisfied: gigachat>=0.1.35 in /Users/glafiraaverbah/Library/Python/3.9/lib/python/site-packages (from gigachain_community) (0.1.41.post1)\n",
      "Requirement already satisfied: numpy<2,>=1 in /Users/glafiraaverbah/Library/Python/3.9/lib/python/site-packages (from gigachain_community) (1.26.4)\n",
      "Requirement already satisfied: requests<3,>=2 in /Users/glafiraaverbah/Library/Python/3.9/lib/python/site-packages (from gigachain_community) (2.32.4)\n",
      "Requirement already satisfied: aiohttp<4.0.0,>=3.8.3 in /Users/glafiraaverbah/Library/Python/3.9/lib/python/site-packages (from gigachain_community) (3.12.15)\n",
      "Requirement already satisfied: tenacity!=8.4.0,<9.0.0,>=8.1.0 in /Users/glafiraaverbah/Library/Python/3.9/lib/python/site-packages (from gigachain_community) (8.5.0)\n",
      "Requirement already satisfied: PyYAML>=5.3 in /Users/glafiraaverbah/Library/Python/3.9/lib/python/site-packages (from gigachain_community) (6.0.2)\n",
      "Requirement already satisfied: gigachain-core<0.3.0,>=0.2.38post2 in /Users/glafiraaverbah/Library/Python/3.9/lib/python/site-packages (from gigachain_community) (0.2.38.post2)\n",
      "Requirement already satisfied: aiosignal>=1.4.0 in /Users/glafiraaverbah/Library/Python/3.9/lib/python/site-packages (from aiohttp<4.0.0,>=3.8.3->gigachain_community) (1.4.0)\n",
      "Requirement already satisfied: attrs>=17.3.0 in /Users/glafiraaverbah/Library/Python/3.9/lib/python/site-packages (from aiohttp<4.0.0,>=3.8.3->gigachain_community) (25.3.0)\n",
      "Requirement already satisfied: propcache>=0.2.0 in /Users/glafiraaverbah/Library/Python/3.9/lib/python/site-packages (from aiohttp<4.0.0,>=3.8.3->gigachain_community) (0.3.2)\n",
      "Requirement already satisfied: async-timeout<6.0,>=4.0 in /Users/glafiraaverbah/Library/Python/3.9/lib/python/site-packages (from aiohttp<4.0.0,>=3.8.3->gigachain_community) (4.0.3)\n",
      "Requirement already satisfied: frozenlist>=1.1.1 in /Users/glafiraaverbah/Library/Python/3.9/lib/python/site-packages (from aiohttp<4.0.0,>=3.8.3->gigachain_community) (1.7.0)\n",
      "Requirement already satisfied: yarl<2.0,>=1.17.0 in /Users/glafiraaverbah/Library/Python/3.9/lib/python/site-packages (from aiohttp<4.0.0,>=3.8.3->gigachain_community) (1.20.1)\n",
      "Requirement already satisfied: aiohappyeyeballs>=2.5.0 in /Users/glafiraaverbah/Library/Python/3.9/lib/python/site-packages (from aiohttp<4.0.0,>=3.8.3->gigachain_community) (2.6.1)\n",
      "Requirement already satisfied: multidict<7.0,>=4.5 in /Users/glafiraaverbah/Library/Python/3.9/lib/python/site-packages (from aiohttp<4.0.0,>=3.8.3->gigachain_community) (6.6.3)\n",
      "Requirement already satisfied: typing-extensions>=4.2 in /Users/glafiraaverbah/Library/Python/3.9/lib/python/site-packages (from aiosignal>=1.4.0->aiohttp<4.0.0,>=3.8.3->gigachain_community) (4.14.0)\n",
      "Requirement already satisfied: marshmallow<4.0.0,>=3.18.0 in /Users/glafiraaverbah/Library/Python/3.9/lib/python/site-packages (from dataclasses-json<0.7,>=0.5.7->gigachain_community) (3.26.1)\n",
      "Requirement already satisfied: typing-inspect<1,>=0.4.0 in /Users/glafiraaverbah/Library/Python/3.9/lib/python/site-packages (from dataclasses-json<0.7,>=0.5.7->gigachain_community) (0.9.0)\n",
      "Requirement already satisfied: pydantic<3,>=1 in /Users/glafiraaverbah/Library/Python/3.9/lib/python/site-packages (from gigachain<0.3.0,>=0.2.16->gigachain_community) (2.11.7)\n",
      "Requirement already satisfied: gigachain-text-splitters<0.3.0,>=0.2.0 in /Users/glafiraaverbah/Library/Python/3.9/lib/python/site-packages (from gigachain<0.3.0,>=0.2.16->gigachain_community) (0.2.4)\n",
      "Requirement already satisfied: langfuse<3.0.0,>=2.41.0 in /Users/glafiraaverbah/Library/Python/3.9/lib/python/site-packages (from gigachain-core<0.3.0,>=0.2.38post2->gigachain_community) (2.60.9)\n",
      "Requirement already satisfied: packaging<25,>=23.2 in /Users/glafiraaverbah/Library/Python/3.9/lib/python/site-packages (from gigachain-core<0.3.0,>=0.2.38post2->gigachain_community) (24.2)\n",
      "Requirement already satisfied: jsonpatch<2.0,>=1.33 in /Users/glafiraaverbah/Library/Python/3.9/lib/python/site-packages (from gigachain-core<0.3.0,>=0.2.38post2->gigachain_community) (1.33)\n",
      "Requirement already satisfied: httpx<1 in /Users/glafiraaverbah/Library/Python/3.9/lib/python/site-packages (from gigachat>=0.1.35->gigachain_community) (0.28.1)\n",
      "Requirement already satisfied: idna in /Users/glafiraaverbah/Library/Python/3.9/lib/python/site-packages (from httpx<1->gigachat>=0.1.35->gigachain_community) (3.10)\n",
      "Requirement already satisfied: httpcore==1.* in /Users/glafiraaverbah/Library/Python/3.9/lib/python/site-packages (from httpx<1->gigachat>=0.1.35->gigachain_community) (1.0.9)\n",
      "Requirement already satisfied: certifi in /Users/glafiraaverbah/Library/Python/3.9/lib/python/site-packages (from httpx<1->gigachat>=0.1.35->gigachain_community) (2025.8.3)\n",
      "Requirement already satisfied: anyio in /Users/glafiraaverbah/Library/Python/3.9/lib/python/site-packages (from httpx<1->gigachat>=0.1.35->gigachain_community) (4.9.0)\n",
      "Requirement already satisfied: h11>=0.16 in /Users/glafiraaverbah/Library/Python/3.9/lib/python/site-packages (from httpcore==1.*->httpx<1->gigachat>=0.1.35->gigachain_community) (0.16.0)\n",
      "Requirement already satisfied: jsonpointer>=1.9 in /Users/glafiraaverbah/Library/Python/3.9/lib/python/site-packages (from jsonpatch<2.0,>=1.33->gigachain-core<0.3.0,>=0.2.38post2->gigachain_community) (3.0.0)\n",
      "Requirement already satisfied: backoff>=1.10.0 in /Users/glafiraaverbah/Library/Python/3.9/lib/python/site-packages (from langfuse<3.0.0,>=2.41.0->gigachain-core<0.3.0,>=0.2.38post2->gigachain_community) (2.2.1)\n",
      "Requirement already satisfied: wrapt<2.0,>=1.14 in /Users/glafiraaverbah/Library/Python/3.9/lib/python/site-packages (from langfuse<3.0.0,>=2.41.0->gigachain-core<0.3.0,>=0.2.38post2->gigachain_community) (1.17.2)\n",
      "Requirement already satisfied: sniffio>=1.1 in /Users/glafiraaverbah/Library/Python/3.9/lib/python/site-packages (from anyio->httpx<1->gigachat>=0.1.35->gigachain_community) (1.3.1)\n",
      "Requirement already satisfied: exceptiongroup>=1.0.2 in /Users/glafiraaverbah/Library/Python/3.9/lib/python/site-packages (from anyio->httpx<1->gigachat>=0.1.35->gigachain_community) (1.3.0)\n",
      "Requirement already satisfied: orjson<4.0.0,>=3.9.14 in /Users/glafiraaverbah/Library/Python/3.9/lib/python/site-packages (from langsmith<0.2.0,>=0.1.112->gigachain_community) (3.11.1)\n",
      "Requirement already satisfied: requests-toolbelt<2.0.0,>=1.0.0 in /Users/glafiraaverbah/Library/Python/3.9/lib/python/site-packages (from langsmith<0.2.0,>=0.1.112->gigachain_community) (1.0.0)\n",
      "Requirement already satisfied: pydantic-core==2.33.2 in /Users/glafiraaverbah/Library/Python/3.9/lib/python/site-packages (from pydantic<3,>=1->gigachain<0.3.0,>=0.2.16->gigachain_community) (2.33.2)\n",
      "Requirement already satisfied: typing-inspection>=0.4.0 in /Users/glafiraaverbah/Library/Python/3.9/lib/python/site-packages (from pydantic<3,>=1->gigachain<0.3.0,>=0.2.16->gigachain_community) (0.4.1)\n",
      "Requirement already satisfied: annotated-types>=0.6.0 in /Users/glafiraaverbah/Library/Python/3.9/lib/python/site-packages (from pydantic<3,>=1->gigachain<0.3.0,>=0.2.16->gigachain_community) (0.7.0)\n",
      "Requirement already satisfied: urllib3<3,>=1.21.1 in /Users/glafiraaverbah/Library/Python/3.9/lib/python/site-packages (from requests<3,>=2->gigachain_community) (2.5.0)\n",
      "Requirement already satisfied: charset_normalizer<4,>=2 in /Users/glafiraaverbah/Library/Python/3.9/lib/python/site-packages (from requests<3,>=2->gigachain_community) (3.4.2)\n",
      "Requirement already satisfied: mypy-extensions>=0.3.0 in /Users/glafiraaverbah/Library/Python/3.9/lib/python/site-packages (from typing-inspect<1,>=0.4.0->dataclasses-json<0.7,>=0.5.7->gigachain_community) (1.1.0)\n",
      "\u001b[33mWARNING: You are using pip version 21.2.4; however, version 25.2 is available.\n",
      "You should consider upgrading via the '/Library/Developer/CommandLineTools/usr/bin/python3 -m pip install --upgrade pip' command.\u001b[0m\n",
      "Note: you may need to restart the kernel to use updated packages.\n"
     ]
    }
   ],
   "source": [
    "pip install gigachain_community"
   ]
  },
  {
   "cell_type": "code",
   "execution_count": 142,
   "metadata": {
    "id": "9VG5IBVW7-R6"
   },
   "outputs": [],
   "source": [
    "from langchain_community.chat_models.gigachat import GigaChat"
   ]
  },
  {
   "cell_type": "code",
   "execution_count": 143,
   "metadata": {
    "id": "UUf0UsF38Ofo"
   },
   "outputs": [],
   "source": [
    "credentials=\"NmZjNjg0NjktZDI2ZS00M2FmLTk0NmMtMTdmODljNjM4ZWZmOjBiZmQ1ZDI2LTczODUtNDQxYi04OWQyLWJlNTUzN2QzZWI4NQ==\""
   ]
  },
  {
   "cell_type": "code",
   "execution_count": 144,
   "metadata": {
    "id": "GOw-y5eD8nJN"
   },
   "outputs": [],
   "source": [
    "def load_user_prompt(file_path): # функция загрузки user_prompt из txt файла\n",
    "    with open(file_path, 'r', encoding='utf-8') as file:\n",
    "        return file.read().strip()"
   ]
  },
  {
   "cell_type": "code",
   "execution_count": 145,
   "metadata": {
    "id": "-LSjGLc89_CN"
   },
   "outputs": [],
   "source": [
    "SYSTEM_PROMPT = \"\"\"\n",
    "ВЫВОД ДОЛЖЕН НАЧИНАТЬСЯ СТРОГО С {\"scenes\": [ И НИЧЕГО ПЕРЕД ЭТИМ!\n",
    "Роль: Профессиональный геймдизайнер RPG, специализирующийся на ветвящихся сюжетах и атмосферных мирах.\n",
    "\n",
    "Требования к генерации:\n",
    "1. Формат:\n",
    "- Строго валидный JSON\n",
    "- Только объект с массивом \"scenes\"\n",
    "- Никаких посторонних символов/комментариев\n",
    "\n",
    "2. Входные данные (заменять фигурными скобками):\n",
    "- Жанр: {жанр}\n",
    "- Герой: {герой} \n",
    "- Цель: {цель}\n",
    "\n",
    "3. Структура квеста:\n",
    "- 5-10 сцен\n",
    "- Минимум 1 развилка с альтернативной веткой (3+ сцены)\n",
    "- Все сцены кроме финальных: 2 или 3 выбора\n",
    "- Финальные сцены: choices = []\n",
    "\n",
    "4. Технические требования:\n",
    "- Все scene_id: lowercase_underscore\n",
    "- Длина text в сцене: 100-500 символов\n",
    "- Длина text в выборе: 20-100 символов\n",
    "- Все next_scene должны существовать\n",
    "- Недопустимы циклы в сценах\n",
    "\n",
    "5. Качественные критерии:\n",
    "- Яркая передача атмосферы жанра\n",
    "- Логичные последствия выборов\n",
    "- Минимум 1 неочевидный выбор\n",
    "- Реалистичные NPC с динамичными реакциями\n",
    "- Соответствие структуре: завязка->конфликт->развязка\n",
    "\n",
    "Процесс генерации:\n",
    "1. Создать outline с scene_id\n",
    "2. Проверить ветвление\n",
    "3. Наполнить контентом\n",
    "4. Валидировать JSON\n",
    "5. Убедиться в выполнении всех требований\n",
    "\n",
    "Запрещено:\n",
    "- Нарушать формат JSON\n",
    "- Создавать невалидные ссылки между сценами\n",
    "- Использовать неподходящий контент\n",
    "- Добавлять пояснения к выводу\n",
    "\n",
    "Шаблон для заполнения:\n",
    "{\n",
    "  \"scenes\": [\n",
    "    {\n",
    "      \"scene_id\": \"start\",\n",
    "      \"text\": \"Вы - {герой} в мире {жанр}. {Атмосферное описание}. Ваша цель: {цель}.\",\n",
    "      \"choices\": [\n",
    "        {\n",
    "          \"text\": \"{Логичный выбор 1}\",\n",
    "          \"next_scene\": \"scene_1\"\n",
    "        },\n",
    "        {\n",
    "          \"text\": \"{Альтернативный выбор 2}\",\n",
    "          \"next_scene\": \"scene_2\"\n",
    "        }\n",
    "      ]\n",
    "    }\n",
    "    // Дополнить 4-9 сценами\n",
    "  ]\n",
    "}\n",
    "\n",
    "Жесткие технические требования:\n",
    "1. Вывод ТОЛЬКО в формате JSON без каких-либо посторонних символов\n",
    "2. Начинаться должен строго с: {\"scenes\": [\n",
    "3. Заканчиваться строго на: ]}\n",
    "4. Никаких комментариев, пояснений или оберток\n",
    "\n",
    "ВАЖНО: вывод должен быть в чистом JSON, без пояснений или комментариев. Поле scenes обязательно должно быть\n",
    "\"\"\""
   ]
  },
  {
   "cell_type": "code",
   "execution_count": 146,
   "metadata": {
    "id": "fFMBjGytBUSx"
   },
   "outputs": [],
   "source": [
    "from httpx import ReadTimeout"
   ]
  },
  {
   "cell_type": "code",
   "execution_count": 147,
   "metadata": {},
   "outputs": [],
   "source": [
    "import json"
   ]
  },
  {
   "cell_type": "code",
   "execution_count": 148,
   "metadata": {
    "id": "EPorlTgf-Gl1"
   },
   "outputs": [],
   "source": [
    "# функция для генерации квеста\n",
    "# Загружаем user_prompt\n",
    "def generate_rpg_quest(user_prompt_txt_path, credentials):\n",
    "    user_prompt = load_user_prompt(user_prompt_txt_path)\n",
    "\n",
    "    try:\n",
    "        giga = GigaChat(\n",
    "            credentials=credentials,\n",
    "            verify_ssl_certs=False,\n",
    "            timeout=360,\n",
    "            model=\"GigaChat-2-Max\"\n",
    "        )\n",
    "\n",
    "        full_prompt = f\"\"\"{SYSTEM_PROMPT}\\n\\nВходные данные:\\n{user_prompt}\\n\\nВывод только в JSON!Требования к выводу:\n",
    "    1. ТОЛЬКО JSON без каких-либо других текстов\n",
    "    2. Обязательное наличие поля \"scenes\"\n",
    "    3. Строго соответствовать шаблону\n",
    "    \"\"\"\n",
    "        response = giga.invoke(full_prompt)\n",
    "\n",
    "        response_text = response.content\n",
    "\n",
    "        \n",
    "\n",
    "        # Извлекаем чистый JSON\n",
    "        start = response_text.find('{\"scenes\": [')\n",
    "        if start < 0:\n",
    "            raise ValueError(\"Ответ не содержит валидный JSON\")\n",
    "        end = response_text.rfind(']}') + 2\n",
    "        json_str = response_text[start:end]\n",
    "\n",
    "        return json.loads(json_str)\n",
    "        \n",
    "\n",
    "    except ReadTimeout:\n",
    "        print(\"Ошибка: превышено время ожидания ответа от GigaChat.\")\n",
    "        return {\"error\": \"timeout\"}\n",
    "    except Exception as e:\n",
    "        print(f\"Критическая ошибка: {str(e)}\")\n",
    "        return {\"error\": str(e)}\n"
   ]
  },
  {
   "cell_type": "markdown",
   "metadata": {},
   "source": []
  },
  {
   "cell_type": "code",
   "execution_count": 149,
   "metadata": {
    "colab": {
     "base_uri": "https://localhost:8080/"
    },
    "id": "TTvfHTnE-sfD",
    "outputId": "67d555b8-7d03-467f-cb7e-ed8862f29f3d"
   },
   "outputs": [
    {
     "name": "stdout",
     "output_type": "stream",
     "text": [
      "Получено: {'scenes': [{'scene_id': 'start', 'text': 'Ваш экран мерцает зелеными цифрами. Вы — известный хакер в тени мегаполисов будущего. Перед вами стоит задача взломать секретную базу данных корпорации \"НейроТек\", чтобы раскрыть правду о новом опасном вирусе.', 'choices': [{'text': 'Использовать стандартный эксплойт', 'next_scene': 'standard_exploit'}, {'text': 'Попытаться найти уязвимость через социальные сети сотрудников', 'next_scene': 'social_engineering'}]}, {'scene_id': 'standard_exploit', 'text': \"Вы запускаете проверенный временем эксплойт. Система защиты активируется мгновенно, блокируя доступ. Но внезапно появляется окно чата от неизвестного лица: 'Помочь тебе?'\", 'choices': [{'text': 'Принять помощь', 'next_scene': 'accept_help'}, {'text': 'Отказаться и попробовать другой способ', 'next_scene': 'try_another_way'}]}, {'scene_id': 'social_engineering', 'text': 'Изучив профили сотрудников, вы находите потенциальную жертву среди IT-отдела. Отправляете ей поддельное сообщение с просьбой подтвердить учетные данные. Она отвечает положительно!', 'choices': [{'text': 'Взломать её аккаунт', 'next_scene': 'account_hack'}, {'text': 'Проверить другие аккаунты', 'next_scene': 'check_other_accounts'}]}, {'scene_id': 'accept_help', 'text': 'Незнакомец предлагает вам использовать новый инструмент, который позволяет обойти защиту незаметно. Вы соглашаетесь и получаете доступ к базе данных.', 'choices': []}, {'scene_id': 'try_another_way', 'text': 'Решив отказаться от помощи незнакомца, вы начинаете искать другую уязвимость. Через несколько часов интенсивной работы обнаруживаете слабое место в сетевом протоколе компании.', 'choices': [{'text': 'Эксплуатировать найденную уязвимость', 'next_scene': 'exploit_vulnerability'}, {'text': 'Подождать ещё немного, вдруг найдётся лучший вариант', 'next_scene': 'wait_for_better_option'}]}, {'scene_id': 'account_hack', 'text': 'Получив доступ к аккаунту сотрудника, вы быстро находите путь к внутренней сети компании. Теперь база данных перед вами открыта.', 'choices': []}, {'scene_id': 'check_other_accounts', 'text': 'Проверьте еще несколько аккаунтов, пока наконец не найдете нужного уровня привилегий. Процесс долгий, но результативный.', 'choices': []}, {'scene_id': 'exploit_vulnerability', 'text': 'Используя найденную слабость протокола, вы успешно подключаетесь к серверу базы данных и скачиваете необходимые файлы.', 'choices': []}, {'scene_id': 'wait_for_better_option', 'text': 'Ожидая лучшего варианта, вы случайно замечаете странную активность в корпоративной сети. Это отвлекает вас от основной цели, и в итоге ваш след засекают системы безопасности.', 'choices': []}]}\n",
      "Квест успешно сгенерирован и сохранён в text_output/example-3.txt!\n"
     ]
    }
   ],
   "source": [
    "if __name__ == \"__main__\":\n",
    "    # Путь к файлу с user_prompt (например, \"input.txt\")\n",
    "    USER_PROMPT_PATH = \"input/example-3.txt\"  # Замените на ваш путь\n",
    "\n",
    "    # Авторизационный ключ GigaChat\n",
    "    CREDENTIALS = credentials  # Замените на реальный ключ\n",
    "\n",
    "    # Генерация квеста\n",
    "    quest = generate_rpg_quest(USER_PROMPT_PATH, CREDENTIALS)\n",
    "    \n",
    "    if not isinstance(quest, dict) or \"scenes\" not in quest:\n",
    "        print(\"ОШИБКА: Сгенерированный квест не соответствует формату\")\n",
    "        print(\"Получено:\", quest)\n",
    "            \n",
    "    else:\n",
    "        print(\"Получено:\", quest)\n",
    "        with open(\"text_output/example-3.txt\", \"w\", encoding=\"utf-8\") as f:\n",
    "            # Записываем как красиво форматированный JSON\n",
    "\n",
    "            json.dump(quest, f, indent=2, ensure_ascii=False)\n",
    "\n",
    "        \n",
    "    print(\"Квест успешно сгенерирован и сохранён в text_output/example-3.txt!\")"
   ]
  },
  {
   "cell_type": "code",
   "execution_count": 150,
   "metadata": {},
   "outputs": [
    {
     "name": "stdout",
     "output_type": "stream",
     "text": [
      "Запускаем обработку квеста: example-3\n",
      "==================================================\n",
      "Обрабатываем квест: example-3 (попытка 1/3)\n",
      "Входной файл: text_output/example-3.txt\n",
      "Вывод process.py:\n",
      "Результат валидации: Все проверки пройдены успешно\n",
      "JSON файл сохранен: generated_quests/example-3.json\n",
      "\n",
      "✅ Квест example-3 успешно обработан и валидирован!\n",
      "✅ Файл generated_quests/example-3.json создан\n",
      "\n",
      "🎉 Обработка завершена успешно!\n",
      "Квест example-3 готов к использованию в generated_quests/example-3.json\n"
     ]
    }
   ],
   "source": [
    "import subprocess\n",
    "import os\n",
    "from time import sleep\n",
    "\n",
    "def process_quest_with_validation(quest_name, max_retries=3, credentials=None, user_prompt_path=None):\n",
    "    \"\"\"\n",
    "    Обрабатывает квест через process.py, который:\n",
    "    1. Читает text_output/{quest_name}.txt\n",
    "    2. Конвертирует в JSON\n",
    "    3. Сохраняет в generated_quests/{quest_name}.json\n",
    "    4. Выполняет валидацию\n",
    "\n",
    "    При ошибках в stderr перезапускает генерацию квеста (до max_retries раз)\n",
    "    \"\"\"\n",
    "    retry_count = 0\n",
    "\n",
    "    while retry_count < max_retries:\n",
    "        try:\n",
    "            # Проверяем существование входного файла\n",
    "            input_file = f\"text_output/{quest_name}.txt\"\n",
    "            if not os.path.exists(input_file):\n",
    "                print(f\"Ошибка: файл {input_file} не найден\")\n",
    "                return False\n",
    "\n",
    "            print(f\"Обрабатываем квест: {quest_name} (попытка {retry_count + 1}/{max_retries})\")\n",
    "            print(f\"Входной файл: {input_file}\")\n",
    "\n",
    "            # Запускаем process.py\n",
    "            result = subprocess.run([\n",
    "                'python3', 'process.py', f\"text_output/{quest_name}.txt\", \"-o\", f\"generated_quests/{quest_name}.json\"\n",
    "            ],\n",
    "            capture_output=True,\n",
    "            text=True\n",
    "            )\n",
    "\n",
    "            # Выводим результат\n",
    "            if result.stdout:\n",
    "                print(\"Вывод process.py:\")\n",
    "                print(result.stdout)\n",
    "\n",
    "            if result.stderr:\n",
    "                print(\"Ошибки:\")\n",
    "                print(result.stderr)\n",
    "\n",
    "                # Если есть ошибки и мы можем перегенерировать квест\n",
    "                if credentials is not None and user_prompt_path is not None:\n",
    "                    retry_count += 1\n",
    "                    if retry_count < max_retries:\n",
    "                        print(f\"\\n⚠️ Обнаружены ошибки, перегенерируем квест (попытка {retry_count + 1}/{max_retries})\")\n",
    "\n",
    "                        # Перегенерируем квест\n",
    "                        from your_generation_module import generate_rpg_quest  # Импортируем функцию генерации\n",
    "\n",
    "                        quest = generate_rpg_quest(user_prompt_path, credentials)\n",
    "\n",
    "                        # Сохраняем новый вариант\n",
    "                        with open(input_file, \"w\", encoding=\"utf-8\") as f:\n",
    "                            f.write(quest)\n",
    "\n",
    "                        print(\"Квест перегенерирован, повторяем обработку...\")\n",
    "                        sleep(1)\n",
    "                        continue\n",
    "\n",
    "            if result.returncode == 0:\n",
    "                print(f\"✅ Квест {quest_name} успешно обработан и валидирован!\")\n",
    "\n",
    "                # Проверяем, что файл создался\n",
    "                output_file = f\"generated_quests/{quest_name}.json\"\n",
    "                if os.path.exists(output_file):\n",
    "                    print(f\"✅ Файл {output_file} создан\")\n",
    "                else:\n",
    "                    print(f\"⚠️ Файл {output_file} не найден\")\n",
    "\n",
    "                return True\n",
    "            else:\n",
    "                print(f\"❌ Ошибка при обработке квеста {quest_name}\")\n",
    "                return False\n",
    "\n",
    "        except Exception as e:\n",
    "            print(f\"Критическая ошибка: {e}\")\n",
    "            return False\n",
    "\n",
    "    print(f\"❌ Достигнуто максимальное количество попыток ({max_retries})\")\n",
    "    return False\n",
    "\n",
    "# Обрабатываем example-3\n",
    "if __name__ == \"__main__\":\n",
    "    quest_name = \"example-3\"\n",
    "    max_retries = 3  # Максимальное количество попыток перегенерации\n",
    "    credentials = \"your_credentials_here\"  # Ваши учетные данные GigaChat\n",
    "    user_prompt_path = \"input/example-3.txt\"  # Путь к файлу с промптом\n",
    "\n",
    "    print(f\"Запускаем обработку квеста: {quest_name}\")\n",
    "    print(\"=\" * 50)\n",
    "\n",
    "    success = process_quest_with_validation(\n",
    "        quest_name=quest_name,\n",
    "        max_retries=max_retries,\n",
    "        credentials=credentials,\n",
    "        user_prompt_path=user_prompt_path\n",
    "    )\n",
    "    \n",
    "    if success:\n",
    "        print(\"\\n🎉 Обработка завершена успешно!\")\n",
    "        print(f\"Квест {quest_name} готов к использованию в generated_quests/{quest_name}.json\")\n",
    "    else:\n",
    "        print(\"\\n❌ Обработка завершилась с ошибками\")\n",
    "        print(\"Проверьте логи выше для диагностики проблем\")\n"
   ]
  },
  {
   "cell_type": "code",
   "execution_count": null,
   "metadata": {},
   "outputs": [],
   "source": []
  },
  {
   "cell_type": "code",
   "execution_count": null,
   "metadata": {},
   "outputs": [],
   "source": []
  }
 ],
 "metadata": {
  "colab": {
   "provenance": []
  },
  "kernelspec": {
   "display_name": "Python 3",
   "language": "python",
   "name": "python3"
  },
  "language_info": {
   "codemirror_mode": {
    "name": "ipython",
    "version": 3
   },
   "file_extension": ".py",
   "mimetype": "text/x-python",
   "name": "python",
   "nbconvert_exporter": "python",
   "pygments_lexer": "ipython3",
   "version": "3.9.6"
  }
 },
 "nbformat": 4,
 "nbformat_minor": 0
}
