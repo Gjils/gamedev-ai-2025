{
 "cells": [
  {
   "cell_type": "code",
   "execution_count": 174,
   "id": "fc145e93",
   "metadata": {},
   "outputs": [],
   "source": [
    "import json\n",
    "import networkx as nx\n",
    "import numpy as np\n",
    "import plotly.graph_objects as go\n",
    "from networkx.drawing.nx_agraph import graphviz_layout"
   ]
  },
  {
   "cell_type": "code",
   "execution_count": 175,
   "id": "99121278",
   "metadata": {},
   "outputs": [],
   "source": [
    "filename = \"example-2.json\""
   ]
  },
  {
   "cell_type": "code",
   "execution_count": 176,
   "id": "6182f666",
   "metadata": {},
   "outputs": [],
   "source": [
    "with open(filename) as f:\n",
    "    data = json.load(f)"
   ]
  },
  {
   "cell_type": "code",
   "execution_count": 177,
   "id": "d0637742",
   "metadata": {},
   "outputs": [],
   "source": [
    "graph = nx.Graph(directed=True)\n",
    "graph.add_nodes_from(map(lambda scene: scene['scene_id'], data['scenes']))\n",
    "graph.add_edges_from(\n",
    "    (choice['next_scene'], scene['scene_id'])\n",
    "    for scene in data['scenes']\n",
    "    for choice in scene['choices']\n",
    ")"
   ]
  },
  {
   "cell_type": "code",
   "execution_count": 178,
   "id": "6dae6a86",
   "metadata": {},
   "outputs": [],
   "source": [
    "# Генерируем координаты вершин графа\n",
    "pos = graphviz_layout(graph, prog='dot', args=\"-Grankdir=LR\")\n",
    "\n",
    "coords = np.array(list(pos.values()))\n",
    "\n",
    "\n",
    "# Извлекаем информацию о положении вершин и рёбер графа\n",
    "node_x = coords[:, 0] # Заполняем списки вершин\n",
    "node_y = coords[:, 1]\n",
    "node_text = list(graph.nodes())\n",
    "edge_x, edge_y = [], []\n",
    "\n",
    "for edge in graph.edges():\n",
    "  n_1 = node_text.index(edge[0])\n",
    "  n_2 = node_text.index(edge[1])\n",
    "  edge_x.extend([node_x[n_1], node_x[n_2], None])\n",
    "  edge_y.extend([node_y[n_1], node_y[n_2], None])"
   ]
  },
  {
   "cell_type": "code",
   "execution_count": 179,
   "id": "29d3149d",
   "metadata": {},
   "outputs": [
    {
     "data": {
      "application/vnd.plotly.v1+json": {
       "config": {
        "plotlyServerURL": "https://plot.ly"
       },
       "data": [
        {
         "hoverinfo": "none",
         "line": {
          "color": "#888",
          "width": 0.5
         },
         "mode": "lines",
         "type": "scatter",
         "x": [
          27,
          188.9,
          null,
          27,
          188.9,
          null,
          188.9,
          417.93,
          null,
          188.9,
          417.93,
          null,
          188.9,
          417.93,
          null,
          188.9,
          417.93,
          null,
          417.93,
          647.44,
          null,
          417.93,
          647.44,
          null,
          417.93,
          647.44,
          null,
          417.93,
          647.44,
          null,
          417.93,
          647.44,
          null,
          417.93,
          647.44,
          null,
          417.93,
          647.44,
          null,
          417.93,
          647.44,
          null,
          647.44,
          878.86,
          null,
          647.44,
          878.86,
          null,
          647.44,
          878.86,
          null,
          647.44,
          878.86,
          null,
          647.44,
          878.86,
          null,
          647.44,
          878.86,
          null,
          647.44,
          878.86,
          null,
          647.44,
          878.86,
          null,
          647.44,
          878.86,
          null,
          647.44,
          878.86,
          null,
          878.86,
          1120.8,
          null,
          878.86,
          1120.8,
          null,
          878.86,
          1120.8,
          null,
          878.86,
          1120.8,
          null,
          878.86,
          1120.8,
          null,
          878.86,
          1120.8,
          null,
          878.86,
          1120.8,
          null,
          878.86,
          1120.8,
          null,
          878.86,
          1120.8,
          null,
          878.86,
          1120.8,
          null
         ],
         "y": [
          247,
          328,
          null,
          247,
          180,
          null,
          328,
          409,
          null,
          328,
          328,
          null,
          180,
          180,
          null,
          180,
          72,
          null,
          409,
          531,
          null,
          409,
          409,
          null,
          328,
          342,
          null,
          328,
          288,
          null,
          180,
          207,
          null,
          180,
          153,
          null,
          72,
          72,
          null,
          72,
          18,
          null,
          531,
          612,
          null,
          531,
          531,
          null,
          342,
          396,
          null,
          342,
          342,
          null,
          288,
          288,
          null,
          288,
          234,
          null,
          153,
          180,
          null,
          153,
          126,
          null,
          72,
          72,
          null,
          72,
          18,
          null,
          612,
          666,
          null,
          612,
          612,
          null,
          531,
          558,
          null,
          531,
          504,
          null,
          396,
          450,
          null,
          396,
          396,
          null,
          342,
          342,
          null,
          342,
          288,
          null,
          234,
          234,
          null,
          234,
          180,
          null
         ]
        }
       ],
       "layout": {
        "annotations": [
         {
          "align": "center",
          "bgcolor": "lightblue",
          "bordercolor": "darkblue",
          "borderpad": 4,
          "borderwidth": 1,
          "font": {
           "color": "black",
           "size": 9
          },
          "height": 30,
          "showarrow": false,
          "text": "start",
          "width": 120,
          "x": 27,
          "xanchor": "center",
          "y": 247,
          "yanchor": "middle"
         },
         {
          "align": "center",
          "bgcolor": "lightblue",
          "bordercolor": "darkblue",
          "borderpad": 4,
          "borderwidth": 1,
          "font": {
           "color": "black",
           "size": 9
          },
          "height": 30,
          "showarrow": false,
          "text": "social_media_message",
          "width": 120,
          "x": 188.9,
          "xanchor": "center",
          "y": 328,
          "yanchor": "middle"
         },
         {
          "align": "center",
          "bgcolor": "lightblue",
          "bordercolor": "darkblue",
          "borderpad": 4,
          "borderwidth": 1,
          "font": {
           "color": "black",
           "size": 9
          },
          "height": 30,
          "showarrow": false,
          "text": "personal_invitation",
          "width": 120,
          "x": 188.9,
          "xanchor": "center",
          "y": 180,
          "yanchor": "middle"
         },
         {
          "align": "center",
          "bgcolor": "lightblue",
          "bordercolor": "darkblue",
          "borderpad": 4,
          "borderwidth": 1,
          "font": {
           "color": "black",
           "size": 9
          },
          "height": 30,
          "showarrow": false,
          "text": "repeat_message",
          "width": 120,
          "x": 417.93,
          "xanchor": "center",
          "y": 409,
          "yanchor": "middle"
         },
         {
          "align": "center",
          "bgcolor": "lightblue",
          "bordercolor": "darkblue",
          "borderpad": 4,
          "borderwidth": 1,
          "font": {
           "color": "black",
           "size": 9
          },
          "height": 30,
          "showarrow": false,
          "text": "phone_call",
          "width": 120,
          "x": 417.93,
          "xanchor": "center",
          "y": 328,
          "yanchor": "middle"
         },
         {
          "align": "center",
          "bgcolor": "lightblue",
          "bordercolor": "darkblue",
          "borderpad": 4,
          "borderwidth": 1,
          "font": {
           "color": "black",
           "size": 9
          },
          "height": 30,
          "showarrow": false,
          "text": "wait_here",
          "width": 120,
          "x": 417.93,
          "xanchor": "center",
          "y": 180,
          "yanchor": "middle"
         },
         {
          "align": "center",
          "bgcolor": "lightblue",
          "bordercolor": "darkblue",
          "borderpad": 4,
          "borderwidth": 1,
          "font": {
           "color": "black",
           "size": 9
          },
          "height": 30,
          "showarrow": false,
          "text": "eavesdrop_on_friend",
          "width": 120,
          "x": 417.93,
          "xanchor": "center",
          "y": 72,
          "yanchor": "middle"
         },
         {
          "align": "center",
          "bgcolor": "lightblue",
          "bordercolor": "darkblue",
          "borderpad": 4,
          "borderwidth": 1,
          "font": {
           "color": "black",
           "size": 9
          },
          "height": 30,
          "showarrow": false,
          "text": "ask_details",
          "width": 120,
          "x": 647.44,
          "xanchor": "center",
          "y": 531,
          "yanchor": "middle"
         },
         {
          "align": "center",
          "bgcolor": "lightblue",
          "bordercolor": "darkblue",
          "borderpad": 4,
          "borderwidth": 1,
          "font": {
           "color": "black",
           "size": 9
          },
          "height": 30,
          "showarrow": false,
          "text": "give_up",
          "width": 120,
          "x": 647.44,
          "xanchor": "center",
          "y": 409,
          "yanchor": "middle"
         },
         {
          "align": "center",
          "bgcolor": "lightblue",
          "bordercolor": "darkblue",
          "borderpad": 4,
          "borderwidth": 1,
          "font": {
           "color": "black",
           "size": 9
          },
          "height": 30,
          "showarrow": false,
          "text": "quick_proposal",
          "width": 120,
          "x": 647.44,
          "xanchor": "center",
          "y": 342,
          "yanchor": "middle"
         },
         {
          "align": "center",
          "bgcolor": "lightblue",
          "bordercolor": "darkblue",
          "borderpad": 4,
          "borderwidth": 1,
          "font": {
           "color": "black",
           "size": 9
          },
          "height": 30,
          "showarrow": false,
          "text": "small_talk",
          "width": 120,
          "x": 647.44,
          "xanchor": "center",
          "y": 288,
          "yanchor": "middle"
         },
         {
          "align": "center",
          "bgcolor": "lightblue",
          "bordercolor": "darkblue",
          "borderpad": 4,
          "borderwidth": 1,
          "font": {
           "color": "black",
           "size": 9
          },
          "height": 30,
          "showarrow": false,
          "text": "happy_agreement",
          "width": 120,
          "x": 647.44,
          "xanchor": "center",
          "y": 207,
          "yanchor": "middle"
         },
         {
          "align": "center",
          "bgcolor": "lightblue",
          "bordercolor": "darkblue",
          "borderpad": 4,
          "borderwidth": 1,
          "font": {
           "color": "black",
           "size": 9
          },
          "height": 30,
          "showarrow": false,
          "text": "confused_by_behavior",
          "width": 120,
          "x": 647.44,
          "xanchor": "center",
          "y": 153,
          "yanchor": "middle"
         },
         {
          "align": "center",
          "bgcolor": "lightblue",
          "bordercolor": "darkblue",
          "borderpad": 4,
          "borderwidth": 1,
          "font": {
           "color": "black",
           "size": 9
          },
          "height": 30,
          "showarrow": false,
          "text": "return_and_wait",
          "width": 120,
          "x": 647.44,
          "xanchor": "center",
          "y": 72,
          "yanchor": "middle"
         },
         {
          "align": "center",
          "bgcolor": "lightblue",
          "bordercolor": "darkblue",
          "borderpad": 4,
          "borderwidth": 1,
          "font": {
           "color": "black",
           "size": 9
          },
          "height": 30,
          "showarrow": false,
          "text": "let_it_be",
          "width": 120,
          "x": 647.44,
          "xanchor": "center",
          "y": 18,
          "yanchor": "middle"
         },
         {
          "align": "center",
          "bgcolor": "lightblue",
          "bordercolor": "darkblue",
          "borderpad": 4,
          "borderwidth": 1,
          "font": {
           "color": "black",
           "size": 9
          },
          "height": 30,
          "showarrow": false,
          "text": "promise_fun_evening",
          "width": 120,
          "x": 878.86,
          "xanchor": "center",
          "y": 612,
          "yanchor": "middle"
         },
         {
          "align": "center",
          "bgcolor": "lightblue",
          "bordercolor": "darkblue",
          "borderpad": 4,
          "borderwidth": 1,
          "font": {
           "color": "black",
           "size": 9
          },
          "height": 30,
          "showarrow": false,
          "text": "admit_fear",
          "width": 120,
          "x": 878.86,
          "xanchor": "center",
          "y": 531,
          "yanchor": "middle"
         },
         {
          "align": "center",
          "bgcolor": "lightblue",
          "bordercolor": "darkblue",
          "borderpad": 4,
          "borderwidth": 1,
          "font": {
           "color": "black",
           "size": 9
          },
          "height": 30,
          "showarrow": false,
          "text": "planning_the_date",
          "width": 120,
          "x": 878.86,
          "xanchor": "center",
          "y": 396,
          "yanchor": "middle"
         },
         {
          "align": "center",
          "bgcolor": "lightblue",
          "bordercolor": "darkblue",
          "borderpad": 4,
          "borderwidth": 1,
          "font": {
           "color": "black",
           "size": 9
          },
          "height": 30,
          "showarrow": false,
          "text": "friends_advice",
          "width": 120,
          "x": 878.86,
          "xanchor": "center",
          "y": 342,
          "yanchor": "middle"
         },
         {
          "align": "center",
          "bgcolor": "lightblue",
          "bordercolor": "darkblue",
          "borderpad": 4,
          "borderwidth": 1,
          "font": {
           "color": "black",
           "size": 9
          },
          "height": 30,
          "showarrow": false,
          "text": "excited_agreement",
          "width": 120,
          "x": 878.86,
          "xanchor": "center",
          "y": 288,
          "yanchor": "middle"
         },
         {
          "align": "center",
          "bgcolor": "lightblue",
          "bordercolor": "darkblue",
          "borderpad": 4,
          "borderwidth": 1,
          "font": {
           "color": "black",
           "size": 9
          },
          "height": 30,
          "showarrow": false,
          "text": "think_later",
          "width": 120,
          "x": 878.86,
          "xanchor": "center",
          "y": 234,
          "yanchor": "middle"
         },
         {
          "align": "center",
          "bgcolor": "lightblue",
          "bordercolor": "darkblue",
          "borderpad": 4,
          "borderwidth": 1,
          "font": {
           "color": "black",
           "size": 9
          },
          "height": 30,
          "showarrow": false,
          "text": "laugh_and_reveal",
          "width": 120,
          "x": 878.86,
          "xanchor": "center",
          "y": 180,
          "yanchor": "middle"
         },
         {
          "align": "center",
          "bgcolor": "lightblue",
          "bordercolor": "darkblue",
          "borderpad": 4,
          "borderwidth": 1,
          "font": {
           "color": "black",
           "size": 9
          },
          "height": 30,
          "showarrow": false,
          "text": "angry_accusations",
          "width": 120,
          "x": 878.86,
          "xanchor": "center",
          "y": 126,
          "yanchor": "middle"
         },
         {
          "align": "center",
          "bgcolor": "lightblue",
          "bordercolor": "darkblue",
          "borderpad": 4,
          "borderwidth": 1,
          "font": {
           "color": "black",
           "size": 9
          },
          "height": 30,
          "showarrow": false,
          "text": "positive_planning",
          "width": 120,
          "x": 878.86,
          "xanchor": "center",
          "y": 72,
          "yanchor": "middle"
         },
         {
          "align": "center",
          "bgcolor": "lightblue",
          "bordercolor": "darkblue",
          "borderpad": 4,
          "borderwidth": 1,
          "font": {
           "color": "black",
           "size": 9
          },
          "height": 30,
          "showarrow": false,
          "text": "worry_about_delay",
          "width": 120,
          "x": 878.86,
          "xanchor": "center",
          "y": 18,
          "yanchor": "middle"
         },
         {
          "align": "center",
          "bgcolor": "lightblue",
          "bordercolor": "darkblue",
          "borderpad": 4,
          "borderwidth": 1,
          "font": {
           "color": "black",
           "size": 9
          },
          "height": 30,
          "showarrow": false,
          "text": "gift_preparation",
          "width": 120,
          "x": 1120.8,
          "xanchor": "center",
          "y": 666,
          "yanchor": "middle"
         },
         {
          "align": "center",
          "bgcolor": "lightblue",
          "bordercolor": "darkblue",
          "borderpad": 4,
          "borderwidth": 1,
          "font": {
           "color": "black",
           "size": 9
          },
          "height": 30,
          "showarrow": false,
          "text": "consult_with_friends",
          "width": 120,
          "x": 1120.8,
          "xanchor": "center",
          "y": 612,
          "yanchor": "middle"
         },
         {
          "align": "center",
          "bgcolor": "lightblue",
          "bordercolor": "darkblue",
          "borderpad": 4,
          "borderwidth": 1,
          "font": {
           "color": "black",
           "size": 9
          },
          "height": 30,
          "showarrow": false,
          "text": "gratitude_and_friendship",
          "width": 120,
          "x": 1120.8,
          "xanchor": "center",
          "y": 558,
          "yanchor": "middle"
         },
         {
          "align": "center",
          "bgcolor": "lightblue",
          "bordercolor": "darkblue",
          "borderpad": 4,
          "borderwidth": 1,
          "font": {
           "color": "black",
           "size": 9
          },
          "height": 30,
          "showarrow": false,
          "text": "back_to_normal_life",
          "width": 120,
          "x": 1120.8,
          "xanchor": "center",
          "y": 504,
          "yanchor": "middle"
         },
         {
          "align": "center",
          "bgcolor": "lightblue",
          "bordercolor": "darkblue",
          "borderpad": 4,
          "borderwidth": 1,
          "font": {
           "color": "black",
           "size": 9
          },
          "height": 30,
          "showarrow": false,
          "text": "amusement_park_visit",
          "width": 120,
          "x": 1120.8,
          "xanchor": "center",
          "y": 450,
          "yanchor": "middle"
         },
         {
          "align": "center",
          "bgcolor": "lightblue",
          "bordercolor": "darkblue",
          "borderpad": 4,
          "borderwidth": 1,
          "font": {
           "color": "black",
           "size": 9
          },
          "height": 30,
          "showarrow": false,
          "text": "cozy_restaurant",
          "width": 120,
          "x": 1120.8,
          "xanchor": "center",
          "y": 396,
          "yanchor": "middle"
         },
         {
          "align": "center",
          "bgcolor": "lightblue",
          "bordercolor": "darkblue",
          "borderpad": 4,
          "borderwidth": 1,
          "font": {
           "color": "black",
           "size": 9
          },
          "height": 30,
          "showarrow": false,
          "text": "best_date_ever",
          "width": 120,
          "x": 1120.8,
          "xanchor": "center",
          "y": 342,
          "yanchor": "middle"
         },
         {
          "align": "center",
          "bgcolor": "lightblue",
          "bordercolor": "darkblue",
          "borderpad": 4,
          "borderwidth": 1,
          "font": {
           "color": "black",
           "size": 9
          },
          "height": 30,
          "showarrow": false,
          "text": "unique_event",
          "width": 120,
          "x": 1120.8,
          "xanchor": "center",
          "y": 288,
          "yanchor": "middle"
         },
         {
          "align": "center",
          "bgcolor": "lightblue",
          "bordercolor": "darkblue",
          "borderpad": 4,
          "borderwidth": 1,
          "font": {
           "color": "black",
           "size": 9
          },
          "height": 30,
          "showarrow": false,
          "text": "prepare_morally",
          "width": 120,
          "x": 1120.8,
          "xanchor": "center",
          "y": 234,
          "yanchor": "middle"
         },
         {
          "align": "center",
          "bgcolor": "lightblue",
          "bordercolor": "darkblue",
          "borderpad": 4,
          "borderwidth": 1,
          "font": {
           "color": "black",
           "size": 9
          },
          "height": 30,
          "showarrow": false,
          "text": "forget_and_study",
          "width": 120,
          "x": 1120.8,
          "xanchor": "center",
          "y": 180,
          "yanchor": "middle"
         }
        ],
        "height": 1000,
        "hovermode": "closest",
        "margin": {
         "b": 20,
         "l": 5,
         "r": 5,
         "t": 40
        },
        "showlegend": false,
        "template": {
         "data": {
          "bar": [
           {
            "error_x": {
             "color": "#2a3f5f"
            },
            "error_y": {
             "color": "#2a3f5f"
            },
            "marker": {
             "line": {
              "color": "#E5ECF6",
              "width": 0.5
             },
             "pattern": {
              "fillmode": "overlay",
              "size": 10,
              "solidity": 0.2
             }
            },
            "type": "bar"
           }
          ],
          "barpolar": [
           {
            "marker": {
             "line": {
              "color": "#E5ECF6",
              "width": 0.5
             },
             "pattern": {
              "fillmode": "overlay",
              "size": 10,
              "solidity": 0.2
             }
            },
            "type": "barpolar"
           }
          ],
          "carpet": [
           {
            "aaxis": {
             "endlinecolor": "#2a3f5f",
             "gridcolor": "white",
             "linecolor": "white",
             "minorgridcolor": "white",
             "startlinecolor": "#2a3f5f"
            },
            "baxis": {
             "endlinecolor": "#2a3f5f",
             "gridcolor": "white",
             "linecolor": "white",
             "minorgridcolor": "white",
             "startlinecolor": "#2a3f5f"
            },
            "type": "carpet"
           }
          ],
          "choropleth": [
           {
            "colorbar": {
             "outlinewidth": 0,
             "ticks": ""
            },
            "type": "choropleth"
           }
          ],
          "contour": [
           {
            "colorbar": {
             "outlinewidth": 0,
             "ticks": ""
            },
            "colorscale": [
             [
              0,
              "#0d0887"
             ],
             [
              0.1111111111111111,
              "#46039f"
             ],
             [
              0.2222222222222222,
              "#7201a8"
             ],
             [
              0.3333333333333333,
              "#9c179e"
             ],
             [
              0.4444444444444444,
              "#bd3786"
             ],
             [
              0.5555555555555556,
              "#d8576b"
             ],
             [
              0.6666666666666666,
              "#ed7953"
             ],
             [
              0.7777777777777778,
              "#fb9f3a"
             ],
             [
              0.8888888888888888,
              "#fdca26"
             ],
             [
              1,
              "#f0f921"
             ]
            ],
            "type": "contour"
           }
          ],
          "contourcarpet": [
           {
            "colorbar": {
             "outlinewidth": 0,
             "ticks": ""
            },
            "type": "contourcarpet"
           }
          ],
          "heatmap": [
           {
            "colorbar": {
             "outlinewidth": 0,
             "ticks": ""
            },
            "colorscale": [
             [
              0,
              "#0d0887"
             ],
             [
              0.1111111111111111,
              "#46039f"
             ],
             [
              0.2222222222222222,
              "#7201a8"
             ],
             [
              0.3333333333333333,
              "#9c179e"
             ],
             [
              0.4444444444444444,
              "#bd3786"
             ],
             [
              0.5555555555555556,
              "#d8576b"
             ],
             [
              0.6666666666666666,
              "#ed7953"
             ],
             [
              0.7777777777777778,
              "#fb9f3a"
             ],
             [
              0.8888888888888888,
              "#fdca26"
             ],
             [
              1,
              "#f0f921"
             ]
            ],
            "type": "heatmap"
           }
          ],
          "histogram": [
           {
            "marker": {
             "pattern": {
              "fillmode": "overlay",
              "size": 10,
              "solidity": 0.2
             }
            },
            "type": "histogram"
           }
          ],
          "histogram2d": [
           {
            "colorbar": {
             "outlinewidth": 0,
             "ticks": ""
            },
            "colorscale": [
             [
              0,
              "#0d0887"
             ],
             [
              0.1111111111111111,
              "#46039f"
             ],
             [
              0.2222222222222222,
              "#7201a8"
             ],
             [
              0.3333333333333333,
              "#9c179e"
             ],
             [
              0.4444444444444444,
              "#bd3786"
             ],
             [
              0.5555555555555556,
              "#d8576b"
             ],
             [
              0.6666666666666666,
              "#ed7953"
             ],
             [
              0.7777777777777778,
              "#fb9f3a"
             ],
             [
              0.8888888888888888,
              "#fdca26"
             ],
             [
              1,
              "#f0f921"
             ]
            ],
            "type": "histogram2d"
           }
          ],
          "histogram2dcontour": [
           {
            "colorbar": {
             "outlinewidth": 0,
             "ticks": ""
            },
            "colorscale": [
             [
              0,
              "#0d0887"
             ],
             [
              0.1111111111111111,
              "#46039f"
             ],
             [
              0.2222222222222222,
              "#7201a8"
             ],
             [
              0.3333333333333333,
              "#9c179e"
             ],
             [
              0.4444444444444444,
              "#bd3786"
             ],
             [
              0.5555555555555556,
              "#d8576b"
             ],
             [
              0.6666666666666666,
              "#ed7953"
             ],
             [
              0.7777777777777778,
              "#fb9f3a"
             ],
             [
              0.8888888888888888,
              "#fdca26"
             ],
             [
              1,
              "#f0f921"
             ]
            ],
            "type": "histogram2dcontour"
           }
          ],
          "mesh3d": [
           {
            "colorbar": {
             "outlinewidth": 0,
             "ticks": ""
            },
            "type": "mesh3d"
           }
          ],
          "parcoords": [
           {
            "line": {
             "colorbar": {
              "outlinewidth": 0,
              "ticks": ""
             }
            },
            "type": "parcoords"
           }
          ],
          "pie": [
           {
            "automargin": true,
            "type": "pie"
           }
          ],
          "scatter": [
           {
            "fillpattern": {
             "fillmode": "overlay",
             "size": 10,
             "solidity": 0.2
            },
            "type": "scatter"
           }
          ],
          "scatter3d": [
           {
            "line": {
             "colorbar": {
              "outlinewidth": 0,
              "ticks": ""
             }
            },
            "marker": {
             "colorbar": {
              "outlinewidth": 0,
              "ticks": ""
             }
            },
            "type": "scatter3d"
           }
          ],
          "scattercarpet": [
           {
            "marker": {
             "colorbar": {
              "outlinewidth": 0,
              "ticks": ""
             }
            },
            "type": "scattercarpet"
           }
          ],
          "scattergeo": [
           {
            "marker": {
             "colorbar": {
              "outlinewidth": 0,
              "ticks": ""
             }
            },
            "type": "scattergeo"
           }
          ],
          "scattergl": [
           {
            "marker": {
             "colorbar": {
              "outlinewidth": 0,
              "ticks": ""
             }
            },
            "type": "scattergl"
           }
          ],
          "scattermap": [
           {
            "marker": {
             "colorbar": {
              "outlinewidth": 0,
              "ticks": ""
             }
            },
            "type": "scattermap"
           }
          ],
          "scattermapbox": [
           {
            "marker": {
             "colorbar": {
              "outlinewidth": 0,
              "ticks": ""
             }
            },
            "type": "scattermapbox"
           }
          ],
          "scatterpolar": [
           {
            "marker": {
             "colorbar": {
              "outlinewidth": 0,
              "ticks": ""
             }
            },
            "type": "scatterpolar"
           }
          ],
          "scatterpolargl": [
           {
            "marker": {
             "colorbar": {
              "outlinewidth": 0,
              "ticks": ""
             }
            },
            "type": "scatterpolargl"
           }
          ],
          "scatterternary": [
           {
            "marker": {
             "colorbar": {
              "outlinewidth": 0,
              "ticks": ""
             }
            },
            "type": "scatterternary"
           }
          ],
          "surface": [
           {
            "colorbar": {
             "outlinewidth": 0,
             "ticks": ""
            },
            "colorscale": [
             [
              0,
              "#0d0887"
             ],
             [
              0.1111111111111111,
              "#46039f"
             ],
             [
              0.2222222222222222,
              "#7201a8"
             ],
             [
              0.3333333333333333,
              "#9c179e"
             ],
             [
              0.4444444444444444,
              "#bd3786"
             ],
             [
              0.5555555555555556,
              "#d8576b"
             ],
             [
              0.6666666666666666,
              "#ed7953"
             ],
             [
              0.7777777777777778,
              "#fb9f3a"
             ],
             [
              0.8888888888888888,
              "#fdca26"
             ],
             [
              1,
              "#f0f921"
             ]
            ],
            "type": "surface"
           }
          ],
          "table": [
           {
            "cells": {
             "fill": {
              "color": "#EBF0F8"
             },
             "line": {
              "color": "white"
             }
            },
            "header": {
             "fill": {
              "color": "#C8D4E3"
             },
             "line": {
              "color": "white"
             }
            },
            "type": "table"
           }
          ]
         },
         "layout": {
          "annotationdefaults": {
           "arrowcolor": "#2a3f5f",
           "arrowhead": 0,
           "arrowwidth": 1
          },
          "autotypenumbers": "strict",
          "coloraxis": {
           "colorbar": {
            "outlinewidth": 0,
            "ticks": ""
           }
          },
          "colorscale": {
           "diverging": [
            [
             0,
             "#8e0152"
            ],
            [
             0.1,
             "#c51b7d"
            ],
            [
             0.2,
             "#de77ae"
            ],
            [
             0.3,
             "#f1b6da"
            ],
            [
             0.4,
             "#fde0ef"
            ],
            [
             0.5,
             "#f7f7f7"
            ],
            [
             0.6,
             "#e6f5d0"
            ],
            [
             0.7,
             "#b8e186"
            ],
            [
             0.8,
             "#7fbc41"
            ],
            [
             0.9,
             "#4d9221"
            ],
            [
             1,
             "#276419"
            ]
           ],
           "sequential": [
            [
             0,
             "#0d0887"
            ],
            [
             0.1111111111111111,
             "#46039f"
            ],
            [
             0.2222222222222222,
             "#7201a8"
            ],
            [
             0.3333333333333333,
             "#9c179e"
            ],
            [
             0.4444444444444444,
             "#bd3786"
            ],
            [
             0.5555555555555556,
             "#d8576b"
            ],
            [
             0.6666666666666666,
             "#ed7953"
            ],
            [
             0.7777777777777778,
             "#fb9f3a"
            ],
            [
             0.8888888888888888,
             "#fdca26"
            ],
            [
             1,
             "#f0f921"
            ]
           ],
           "sequentialminus": [
            [
             0,
             "#0d0887"
            ],
            [
             0.1111111111111111,
             "#46039f"
            ],
            [
             0.2222222222222222,
             "#7201a8"
            ],
            [
             0.3333333333333333,
             "#9c179e"
            ],
            [
             0.4444444444444444,
             "#bd3786"
            ],
            [
             0.5555555555555556,
             "#d8576b"
            ],
            [
             0.6666666666666666,
             "#ed7953"
            ],
            [
             0.7777777777777778,
             "#fb9f3a"
            ],
            [
             0.8888888888888888,
             "#fdca26"
            ],
            [
             1,
             "#f0f921"
            ]
           ]
          },
          "colorway": [
           "#636efa",
           "#EF553B",
           "#00cc96",
           "#ab63fa",
           "#FFA15A",
           "#19d3f3",
           "#FF6692",
           "#B6E880",
           "#FF97FF",
           "#FECB52"
          ],
          "font": {
           "color": "#2a3f5f"
          },
          "geo": {
           "bgcolor": "white",
           "lakecolor": "white",
           "landcolor": "#E5ECF6",
           "showlakes": true,
           "showland": true,
           "subunitcolor": "white"
          },
          "hoverlabel": {
           "align": "left"
          },
          "hovermode": "closest",
          "mapbox": {
           "style": "light"
          },
          "paper_bgcolor": "white",
          "plot_bgcolor": "#E5ECF6",
          "polar": {
           "angularaxis": {
            "gridcolor": "white",
            "linecolor": "white",
            "ticks": ""
           },
           "bgcolor": "#E5ECF6",
           "radialaxis": {
            "gridcolor": "white",
            "linecolor": "white",
            "ticks": ""
           }
          },
          "scene": {
           "xaxis": {
            "backgroundcolor": "#E5ECF6",
            "gridcolor": "white",
            "gridwidth": 2,
            "linecolor": "white",
            "showbackground": true,
            "ticks": "",
            "zerolinecolor": "white"
           },
           "yaxis": {
            "backgroundcolor": "#E5ECF6",
            "gridcolor": "white",
            "gridwidth": 2,
            "linecolor": "white",
            "showbackground": true,
            "ticks": "",
            "zerolinecolor": "white"
           },
           "zaxis": {
            "backgroundcolor": "#E5ECF6",
            "gridcolor": "white",
            "gridwidth": 2,
            "linecolor": "white",
            "showbackground": true,
            "ticks": "",
            "zerolinecolor": "white"
           }
          },
          "shapedefaults": {
           "line": {
            "color": "#2a3f5f"
           }
          },
          "ternary": {
           "aaxis": {
            "gridcolor": "white",
            "linecolor": "white",
            "ticks": ""
           },
           "baxis": {
            "gridcolor": "white",
            "linecolor": "white",
            "ticks": ""
           },
           "bgcolor": "#E5ECF6",
           "caxis": {
            "gridcolor": "white",
            "linecolor": "white",
            "ticks": ""
           }
          },
          "title": {
           "x": 0.05
          },
          "xaxis": {
           "automargin": true,
           "gridcolor": "white",
           "linecolor": "white",
           "ticks": "",
           "title": {
            "standoff": 15
           },
           "zerolinecolor": "white",
           "zerolinewidth": 2
          },
          "yaxis": {
           "automargin": true,
           "gridcolor": "white",
           "linecolor": "white",
           "ticks": "",
           "title": {
            "standoff": 15
           },
           "zerolinecolor": "white",
           "zerolinewidth": 2
          }
         }
        },
        "title": {
         "text": "Scene Graph (Directed)"
        },
        "width": 1000,
        "xaxis": {
         "showgrid": false,
         "showticklabels": false,
         "zeroline": false
        },
        "yaxis": {
         "showgrid": false,
         "showticklabels": false,
         "zeroline": false
        }
       }
      }
     },
     "metadata": {},
     "output_type": "display_data"
    }
   ],
   "source": [
    "# Визуализируем рёбра графа (основные линии)\n",
    "edge_trace = go.Scatter(\n",
    "    x=edge_x, y=edge_y,\n",
    "    line=dict(width=0.5, color='#888'),\n",
    "    hoverinfo='none',\n",
    "    mode='lines',\n",
    ")\n",
    "\n",
    "# # Визуализируем вершины графа\n",
    "# node_trace = go.Scatter(\n",
    "#     x=node_x, y=node_y,\n",
    "#     mode='markers+text',\n",
    "#     text=node_text,\n",
    "#     textposition=\"middle center\",\n",
    "#     textfont=dict(size=9),\n",
    "#     hoverinfo='text',\n",
    "#     marker=dict(\n",
    "#         symbol='square',\n",
    "#         color='lightblue',\n",
    "#         size=40,\n",
    "#         line_width=2\n",
    "#     )\n",
    "# )\n",
    "\n",
    "# Создаём фигуру\n",
    "fig = go.Figure(\n",
    "    data=[edge_trace],\n",
    "    layout=go.Layout(\n",
    "        title='Scene Graph (Directed)',\n",
    "        showlegend=False,\n",
    "        hovermode='closest',\n",
    "        margin=dict(b=20, l=5, r=5, t=40),\n",
    "        xaxis=dict(showgrid=False, zeroline=False, showticklabels=False),\n",
    "        yaxis=dict(showgrid=False, zeroline=False, showticklabels=False),\n",
    "        height=1000, \n",
    "        width=1000\n",
    "    )\n",
    ")\n",
    "\n",
    "for i, (x, y, text) in enumerate(zip(node_x, node_y, node_text)):\n",
    "    fig.add_annotation(\n",
    "        x=x,\n",
    "        y=y,\n",
    "        text=text,\n",
    "        showarrow=False,\n",
    "        font=dict(size=9, color='black'),\n",
    "        align='center',\n",
    "        bordercolor='darkblue',\n",
    "        borderwidth=1,\n",
    "        borderpad=4,\n",
    "        bgcolor='lightblue',\n",
    "        width=120,  # Ширина прямоугольника (пиксели)\n",
    "        height=30, # Высота прямоугольника (пиксели)\n",
    "        xanchor='center',\n",
    "        yanchor='middle'\n",
    "    )\n",
    "\n",
    "fig.show()"
   ]
  }
 ],
 "metadata": {
  "kernelspec": {
   "display_name": ".venv (3.13.5)",
   "language": "python",
   "name": "python3"
  },
  "language_info": {
   "codemirror_mode": {
    "name": "ipython",
    "version": 3
   },
   "file_extension": ".py",
   "mimetype": "text/x-python",
   "name": "python",
   "nbconvert_exporter": "python",
   "pygments_lexer": "ipython3",
   "version": "3.13.5"
  }
 },
 "nbformat": 4,
 "nbformat_minor": 5
}
