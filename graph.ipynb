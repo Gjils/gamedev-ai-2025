{
 "cells": [
  {
   "cell_type": "code",
   "execution_count": 96,
   "id": "fc145e93",
   "metadata": {},
   "outputs": [],
   "source": [
    "import json\n",
    "import networkx as nx\n",
    "import numpy as np\n",
    "import plotly.graph_objects as go\n",
    "from networkx.drawing.nx_agraph import graphviz_layout"
   ]
  },
  {
   "cell_type": "code",
   "execution_count": 97,
   "id": "99121278",
   "metadata": {},
   "outputs": [],
   "source": [
    "filename = \"example-2.json\""
   ]
  },
  {
   "cell_type": "code",
   "execution_count": 98,
   "id": "6182f666",
   "metadata": {},
   "outputs": [],
   "source": [
    "with open(filename) as f:\n",
    "    data = json.load(f)"
   ]
  },
  {
   "cell_type": "code",
   "execution_count": 99,
   "id": "d0637742",
   "metadata": {},
   "outputs": [],
   "source": [
    "graph = nx.Graph(directed=True)\n",
    "graph.add_nodes_from(map(lambda scene: scene['scene_id'], data['scenes']))\n",
    "graph.add_edges_from(\n",
    "    (choice['next_scene'], scene['scene_id'])\n",
    "    for scene in data['scenes']\n",
    "    for choice in scene['choices']\n",
    ")"
   ]
  },
  {
   "cell_type": "code",
   "execution_count": 100,
   "id": "6dae6a86",
   "metadata": {},
   "outputs": [
    {
     "name": "stdout",
     "output_type": "stream",
     "text": [
      "[np.float64(27.0), np.float64(188.9), None, np.float64(27.0), np.float64(188.9), None, np.float64(188.9), np.float64(417.93), None, np.float64(188.9), np.float64(417.93), None, np.float64(188.9), np.float64(417.93), None, np.float64(188.9), np.float64(417.93), None, np.float64(417.93), np.float64(647.44), None, np.float64(417.93), np.float64(647.44), None, np.float64(417.93), np.float64(647.44), None, np.float64(417.93), np.float64(647.44), None, np.float64(417.93), np.float64(647.44), None, np.float64(417.93), np.float64(647.44), None, np.float64(417.93), np.float64(647.44), None, np.float64(417.93), np.float64(647.44), None, np.float64(647.44), np.float64(878.86), None, np.float64(647.44), np.float64(878.86), None, np.float64(647.44), np.float64(878.86), None, np.float64(647.44), np.float64(878.86), None, np.float64(647.44), np.float64(878.86), None, np.float64(647.44), np.float64(878.86), None, np.float64(647.44), np.float64(878.86), None, np.float64(647.44), np.float64(878.86), None, np.float64(647.44), np.float64(878.86), None, np.float64(647.44), np.float64(878.86), None, np.float64(878.86), np.float64(1120.8), None, np.float64(878.86), np.float64(1120.8), None, np.float64(878.86), np.float64(1120.8), None, np.float64(878.86), np.float64(1120.8), None, np.float64(878.86), np.float64(1120.8), None, np.float64(878.86), np.float64(1120.8), None, np.float64(878.86), np.float64(1120.8), None, np.float64(878.86), np.float64(1120.8), None, np.float64(878.86), np.float64(1120.8), None, np.float64(878.86), np.float64(1120.8), None] [np.float64(247.0), np.float64(328.0), None, np.float64(247.0), np.float64(180.0), None, np.float64(328.0), np.float64(409.0), None, np.float64(328.0), np.float64(328.0), None, np.float64(180.0), np.float64(180.0), None, np.float64(180.0), np.float64(72.0), None, np.float64(409.0), np.float64(531.0), None, np.float64(409.0), np.float64(409.0), None, np.float64(328.0), np.float64(342.0), None, np.float64(328.0), np.float64(288.0), None, np.float64(180.0), np.float64(207.0), None, np.float64(180.0), np.float64(153.0), None, np.float64(72.0), np.float64(72.0), None, np.float64(72.0), np.float64(18.0), None, np.float64(531.0), np.float64(612.0), None, np.float64(531.0), np.float64(531.0), None, np.float64(342.0), np.float64(396.0), None, np.float64(342.0), np.float64(342.0), None, np.float64(288.0), np.float64(288.0), None, np.float64(288.0), np.float64(234.0), None, np.float64(153.0), np.float64(180.0), None, np.float64(153.0), np.float64(126.0), None, np.float64(72.0), np.float64(72.0), None, np.float64(72.0), np.float64(18.0), None, np.float64(612.0), np.float64(666.0), None, np.float64(612.0), np.float64(612.0), None, np.float64(531.0), np.float64(558.0), None, np.float64(531.0), np.float64(504.0), None, np.float64(396.0), np.float64(450.0), None, np.float64(396.0), np.float64(396.0), None, np.float64(342.0), np.float64(342.0), None, np.float64(342.0), np.float64(288.0), None, np.float64(234.0), np.float64(234.0), None, np.float64(234.0), np.float64(180.0), None]\n"
     ]
    }
   ],
   "source": [
    "# Генерируем координаты вершин графа\n",
    "pos = graphviz_layout(graph, prog='dot', args=\"-Grankdir=LR\")\n",
    "\n",
    "coords = np.array(list(pos.values()))\n",
    "\n",
    "\n",
    "# Извлекаем информацию о положении вершин и рёбер графа\n",
    "node_x = coords[:, 0] # Заполняем списки вершин\n",
    "node_y = coords[:, 1]\n",
    "node_text = list(graph.nodes())\n",
    "edge_x, edge_y = [], []\n",
    "\n",
    "for edge in graph.edges():\n",
    "  n_1 = node_text.index(edge[0])\n",
    "  n_2 = node_text.index(edge[1])\n",
    "  edge_x.extend([node_x[n_1], node_x[n_2], None])\n",
    "  edge_y.extend([node_y[n_1], node_y[n_2], None])\n",
    "\n",
    "print(edge_x, edge_y)"
   ]
  },
  {
   "cell_type": "code",
   "execution_count": 101,
   "id": "29d3149d",
   "metadata": {},
   "outputs": [
    {
     "data": {
      "application/vnd.plotly.v1+json": {
       "config": {
        "plotlyServerURL": "https://plot.ly"
       },
       "data": [
        {
         "hoverinfo": "none",
         "line": {
          "color": "#888",
          "width": 0.5
         },
         "mode": "lines",
         "type": "scatter",
         "x": [
          27,
          188.9,
          null,
          27,
          188.9,
          null,
          188.9,
          417.93,
          null,
          188.9,
          417.93,
          null,
          188.9,
          417.93,
          null,
          188.9,
          417.93,
          null,
          417.93,
          647.44,
          null,
          417.93,
          647.44,
          null,
          417.93,
          647.44,
          null,
          417.93,
          647.44,
          null,
          417.93,
          647.44,
          null,
          417.93,
          647.44,
          null,
          417.93,
          647.44,
          null,
          417.93,
          647.44,
          null,
          647.44,
          878.86,
          null,
          647.44,
          878.86,
          null,
          647.44,
          878.86,
          null,
          647.44,
          878.86,
          null,
          647.44,
          878.86,
          null,
          647.44,
          878.86,
          null,
          647.44,
          878.86,
          null,
          647.44,
          878.86,
          null,
          647.44,
          878.86,
          null,
          647.44,
          878.86,
          null,
          878.86,
          1120.8,
          null,
          878.86,
          1120.8,
          null,
          878.86,
          1120.8,
          null,
          878.86,
          1120.8,
          null,
          878.86,
          1120.8,
          null,
          878.86,
          1120.8,
          null,
          878.86,
          1120.8,
          null,
          878.86,
          1120.8,
          null,
          878.86,
          1120.8,
          null,
          878.86,
          1120.8,
          null
         ],
         "y": [
          247,
          328,
          null,
          247,
          180,
          null,
          328,
          409,
          null,
          328,
          328,
          null,
          180,
          180,
          null,
          180,
          72,
          null,
          409,
          531,
          null,
          409,
          409,
          null,
          328,
          342,
          null,
          328,
          288,
          null,
          180,
          207,
          null,
          180,
          153,
          null,
          72,
          72,
          null,
          72,
          18,
          null,
          531,
          612,
          null,
          531,
          531,
          null,
          342,
          396,
          null,
          342,
          342,
          null,
          288,
          288,
          null,
          288,
          234,
          null,
          153,
          180,
          null,
          153,
          126,
          null,
          72,
          72,
          null,
          72,
          18,
          null,
          612,
          666,
          null,
          612,
          612,
          null,
          531,
          558,
          null,
          531,
          504,
          null,
          396,
          450,
          null,
          396,
          396,
          null,
          342,
          342,
          null,
          342,
          288,
          null,
          234,
          234,
          null,
          234,
          180,
          null
         ]
        },
        {
         "hoverinfo": "text",
         "marker": {
          "color": "lightblue",
          "line": {
           "width": 2
          },
          "size": 10
         },
         "mode": "markers+text",
         "text": [
          "start",
          "social_media_message",
          "personal_invitation",
          "repeat_message",
          "phone_call",
          "wait_here",
          "eavesdrop_on_friend",
          "ask_details",
          "give_up",
          "quick_proposal",
          "small_talk",
          "happy_agreement",
          "confused_by_behavior",
          "return_and_wait",
          "let_it_be",
          "promise_fun_evening",
          "admit_fear",
          "planning_the_date",
          "friends_advice",
          "excited_agreement",
          "think_later",
          "laugh_and_reveal",
          "angry_accusations",
          "positive_planning",
          "worry_about_delay",
          "gift_preparation",
          "consult_with_friends",
          "gratitude_and_friendship",
          "back_to_normal_life",
          "amusement_park_visit",
          "cozy_restaurant",
          "best_date_ever",
          "unique_event",
          "prepare_morally",
          "forget_and_study"
         ],
         "textposition": "top center",
         "type": "scatter",
         "x": {
          "bdata": "AAAAAAAAO0DNzMzMzJxnQM3MzMzMnGdAexSuR+EeekB7FK5H4R56QHsUrkfhHnpAexSuR+EeekDsUbgehTuEQOxRuB6FO4RA7FG4HoU7hEDsUbgehTuEQOxRuB6FO4RA7FG4HoU7hEDsUbgehTuEQOxRuB6FO4RAexSuR+F2i0B7FK5H4XaLQHsUrkfhdotAexSuR+F2i0B7FK5H4XaLQHsUrkfhdotAexSuR+F2i0B7FK5H4XaLQHsUrkfhdotAexSuR+F2i0AzMzMzM4ORQDMzMzMzg5FAMzMzMzODkUAzMzMzM4ORQDMzMzMzg5FAMzMzMzODkUAzMzMzM4ORQDMzMzMzg5FAMzMzMzODkUAzMzMzM4ORQA==",
          "dtype": "f8"
         },
         "y": {
          "bdata": "AAAAAADgbkAAAAAAAIB0QAAAAAAAgGZAAAAAAACQeUAAAAAAAIB0QAAAAAAAgGZAAAAAAAAAUkAAAAAAAJiAQAAAAAAAkHlAAAAAAABgdUAAAAAAAAByQAAAAAAA4GlAAAAAAAAgY0AAAAAAAABSQAAAAAAAADJAAAAAAAAgg0AAAAAAAJiAQAAAAAAAwHhAAAAAAABgdUAAAAAAAAByQAAAAAAAQG1AAAAAAACAZkAAAAAAAIBfQAAAAAAAAFJAAAAAAAAAMkAAAAAAANCEQAAAAAAAIINAAAAAAABwgUAAAAAAAIB/QAAAAAAAIHxAAAAAAADAeEAAAAAAAGB1QAAAAAAAAHJAAAAAAABAbUAAAAAAAIBmQA==",
          "dtype": "f8"
         }
        }
       ],
       "layout": {
        "annotations": [
         {
          "arrowcolor": "#888",
          "arrowhead": 2,
          "arrowsize": 1,
          "arrowwidth": 1,
          "ax": 27,
          "axref": "x",
          "ay": 247,
          "ayref": "y",
          "showarrow": true,
          "x": 188.81056833139556,
          "xref": "x",
          "y": 327.95525654628193,
          "yref": "y"
         },
         {
          "arrowcolor": "#888",
          "arrowhead": 2,
          "arrowsize": 1,
          "arrowwidth": 1,
          "ax": 27,
          "axref": "x",
          "ay": 247,
          "ayref": "y",
          "showarrow": true,
          "x": 188.80759970741664,
          "xref": "x",
          "y": 180.03823853985847,
          "yref": "y"
         },
         {
          "arrowcolor": "#888",
          "arrowhead": 2,
          "arrowsize": 1,
          "arrowwidth": 1,
          "ax": 188.9,
          "axref": "x",
          "ay": 328,
          "ayref": "y",
          "showarrow": true,
          "x": 417.83572241672834,
          "xref": "x",
          "y": 408.9666572752696,
          "yref": "y"
         },
         {
          "arrowcolor": "#888",
          "arrowhead": 2,
          "arrowsize": 1,
          "arrowwidth": 1,
          "ax": 188.9,
          "axref": "x",
          "ay": 328,
          "ayref": "y",
          "showarrow": true,
          "x": 417.83000000000004,
          "xref": "x",
          "y": 328,
          "yref": "y"
         },
         {
          "arrowcolor": "#888",
          "arrowhead": 2,
          "arrowsize": 1,
          "arrowwidth": 1,
          "ax": 188.9,
          "axref": "x",
          "ay": 180,
          "ayref": "y",
          "showarrow": true,
          "x": 417.83000000000004,
          "xref": "x",
          "y": 180,
          "yref": "y"
         },
         {
          "arrowcolor": "#888",
          "arrowhead": 2,
          "arrowsize": 1,
          "arrowwidth": 1,
          "ax": 188.9,
          "axref": "x",
          "ay": 180,
          "ayref": "y",
          "showarrow": true,
          "x": 417.8395518100192,
          "xref": "x",
          "y": 72.04265120079432,
          "yref": "y"
         },
         {
          "arrowcolor": "#888",
          "arrowhead": 2,
          "arrowsize": 1,
          "arrowwidth": 1,
          "ax": 417.93,
          "axref": "x",
          "ay": 409,
          "ayref": "y",
          "showarrow": true,
          "x": 647.3517000371966,
          "xref": "x",
          "y": 530.9530626314233,
          "yref": "y"
         },
         {
          "arrowcolor": "#888",
          "arrowhead": 2,
          "arrowsize": 1,
          "arrowwidth": 1,
          "ax": 417.93,
          "axref": "x",
          "ay": 409,
          "ayref": "y",
          "showarrow": true,
          "x": 647.34,
          "xref": "x",
          "y": 409,
          "yref": "y"
         },
         {
          "arrowcolor": "#888",
          "arrowhead": 2,
          "arrowsize": 1,
          "arrowwidth": 1,
          "ax": 417.93,
          "axref": "x",
          "ay": 328,
          "ayref": "y",
          "showarrow": true,
          "x": 647.3401855294785,
          "xref": "x",
          "y": 341.9939113651375,
          "yref": "y"
         },
         {
          "arrowcolor": "#888",
          "arrowhead": 2,
          "arrowsize": 1,
          "arrowwidth": 1,
          "ax": 417.93,
          "axref": "x",
          "ay": 328,
          "ayref": "y",
          "showarrow": true,
          "x": 647.3414850056786,
          "xref": "x",
          "y": 288.017169621249,
          "yref": "y"
         },
         {
          "arrowcolor": "#888",
          "arrowhead": 2,
          "arrowsize": 1,
          "arrowwidth": 1,
          "ax": 417.93,
          "axref": "x",
          "ay": 180,
          "ayref": "y",
          "showarrow": true,
          "x": 647.3406848804937,
          "xref": "x",
          "y": 206.98831637738368,
          "yref": "y"
         },
         {
          "arrowcolor": "#888",
          "arrowhead": 2,
          "arrowsize": 1,
          "arrowwidth": 1,
          "ax": 417.93,
          "axref": "x",
          "ay": 180,
          "ayref": "y",
          "showarrow": true,
          "x": 647.3406848804937,
          "xref": "x",
          "y": 153.01168362261632,
          "yref": "y"
         },
         {
          "arrowcolor": "#888",
          "arrowhead": 2,
          "arrowsize": 1,
          "arrowwidth": 1,
          "ax": 417.93,
          "axref": "x",
          "ay": 72,
          "ayref": "y",
          "showarrow": true,
          "x": 647.34,
          "xref": "x",
          "y": 72,
          "yref": "y"
         },
         {
          "arrowcolor": "#888",
          "arrowhead": 2,
          "arrowsize": 1,
          "arrowwidth": 1,
          "ax": 417.93,
          "axref": "x",
          "ay": 72,
          "ayref": "y",
          "showarrow": true,
          "x": 647.3426580606772,
          "xref": "x",
          "y": 18.022902987771488,
          "yref": "y"
         },
         {
          "arrowcolor": "#888",
          "arrowhead": 2,
          "arrowsize": 1,
          "arrowwidth": 1,
          "ax": 647.44,
          "axref": "x",
          "ay": 531,
          "ayref": "y",
          "showarrow": true,
          "x": 878.7656145458808,
          "xref": "x",
          "y": 611.9669638674978,
          "yref": "y"
         },
         {
          "arrowcolor": "#888",
          "arrowhead": 2,
          "arrowsize": 1,
          "arrowwidth": 1,
          "ax": 647.44,
          "axref": "x",
          "ay": 531,
          "ayref": "y",
          "showarrow": true,
          "x": 878.76,
          "xref": "x",
          "y": 531,
          "yref": "y"
         },
         {
          "arrowcolor": "#888",
          "arrowhead": 2,
          "arrowsize": 1,
          "arrowwidth": 1,
          "ax": 647.44,
          "axref": "x",
          "ay": 342,
          "ayref": "y",
          "showarrow": true,
          "x": 878.7626160652676,
          "xref": "x",
          "y": 395.97727624027505,
          "yref": "y"
         },
         {
          "arrowcolor": "#888",
          "arrowhead": 2,
          "arrowsize": 1,
          "arrowwidth": 1,
          "ax": 647.44,
          "axref": "x",
          "ay": 342,
          "ayref": "y",
          "showarrow": true,
          "x": 878.76,
          "xref": "x",
          "y": 342,
          "yref": "y"
         },
         {
          "arrowcolor": "#888",
          "arrowhead": 2,
          "arrowsize": 1,
          "arrowwidth": 1,
          "ax": 647.44,
          "axref": "x",
          "ay": 288,
          "ayref": "y",
          "showarrow": true,
          "x": 878.76,
          "xref": "x",
          "y": 288,
          "yref": "y"
         },
         {
          "arrowcolor": "#888",
          "arrowhead": 2,
          "arrowsize": 1,
          "arrowwidth": 1,
          "ax": 647.44,
          "axref": "x",
          "ay": 288,
          "ayref": "y",
          "showarrow": true,
          "x": 878.7626160652676,
          "xref": "x",
          "y": 234.02272375972495,
          "yref": "y"
         },
         {
          "arrowcolor": "#888",
          "arrowhead": 2,
          "arrowsize": 1,
          "arrowwidth": 1,
          "ax": 647.44,
          "axref": "x",
          "ay": 153,
          "ayref": "y",
          "showarrow": true,
          "x": 878.7606737354936,
          "xref": "x",
          "y": 179.9884115066041,
          "yref": "y"
         },
         {
          "arrowcolor": "#888",
          "arrowhead": 2,
          "arrowsize": 1,
          "arrowwidth": 1,
          "ax": 647.44,
          "axref": "x",
          "ay": 153,
          "ayref": "y",
          "showarrow": true,
          "x": 878.7606737354936,
          "xref": "x",
          "y": 126.01158849339589,
          "yref": "y"
         },
         {
          "arrowcolor": "#888",
          "arrowhead": 2,
          "arrowsize": 1,
          "arrowwidth": 1,
          "ax": 647.44,
          "axref": "x",
          "ay": 72,
          "ayref": "y",
          "showarrow": true,
          "x": 878.76,
          "xref": "x",
          "y": 72,
          "yref": "y"
         },
         {
          "arrowcolor": "#888",
          "arrowhead": 2,
          "arrowsize": 1,
          "arrowwidth": 1,
          "ax": 647.44,
          "axref": "x",
          "ay": 72,
          "ayref": "y",
          "showarrow": true,
          "x": 878.7626160652676,
          "xref": "x",
          "y": 18.022723759724954,
          "yref": "y"
         },
         {
          "arrowcolor": "#888",
          "arrowhead": 2,
          "arrowsize": 1,
          "arrowwidth": 1,
          "ax": 878.86,
          "axref": "x",
          "ay": 612,
          "ayref": "y",
          "showarrow": true,
          "x": 1120.7024014585095,
          "xref": "x",
          "y": 665.9782164121663,
          "yref": "y"
         },
         {
          "arrowcolor": "#888",
          "arrowhead": 2,
          "arrowsize": 1,
          "arrowwidth": 1,
          "ax": 878.86,
          "axref": "x",
          "ay": 612,
          "ayref": "y",
          "showarrow": true,
          "x": 1120.7,
          "xref": "x",
          "y": 612,
          "yref": "y"
         },
         {
          "arrowcolor": "#888",
          "arrowhead": 2,
          "arrowsize": 1,
          "arrowwidth": 1,
          "ax": 878.86,
          "axref": "x",
          "ay": 531,
          "ayref": "y",
          "showarrow": true,
          "x": 1120.7006169480487,
          "xref": "x",
          "y": 557.9889090584331,
          "yref": "y"
         },
         {
          "arrowcolor": "#888",
          "arrowhead": 2,
          "arrowsize": 1,
          "arrowwidth": 1,
          "ax": 878.86,
          "axref": "x",
          "ay": 531,
          "ayref": "y",
          "showarrow": true,
          "x": 1120.7006169480487,
          "xref": "x",
          "y": 504.01109094156686,
          "yref": "y"
         },
         {
          "arrowcolor": "#888",
          "arrowhead": 2,
          "arrowsize": 1,
          "arrowwidth": 1,
          "ax": 878.86,
          "axref": "x",
          "ay": 396,
          "ayref": "y",
          "showarrow": true,
          "x": 1120.7024014585095,
          "xref": "x",
          "y": 449.97821641216626,
          "yref": "y"
         },
         {
          "arrowcolor": "#888",
          "arrowhead": 2,
          "arrowsize": 1,
          "arrowwidth": 1,
          "ax": 878.86,
          "axref": "x",
          "ay": 396,
          "ayref": "y",
          "showarrow": true,
          "x": 1120.7,
          "xref": "x",
          "y": 396,
          "yref": "y"
         },
         {
          "arrowcolor": "#888",
          "arrowhead": 2,
          "arrowsize": 1,
          "arrowwidth": 1,
          "ax": 878.86,
          "axref": "x",
          "ay": 342,
          "ayref": "y",
          "showarrow": true,
          "x": 1120.7,
          "xref": "x",
          "y": 342,
          "yref": "y"
         },
         {
          "arrowcolor": "#888",
          "arrowhead": 2,
          "arrowsize": 1,
          "arrowwidth": 1,
          "ax": 878.86,
          "axref": "x",
          "ay": 342,
          "ayref": "y",
          "showarrow": true,
          "x": 1120.7024014585095,
          "xref": "x",
          "y": 288.02178358783374,
          "yref": "y"
         },
         {
          "arrowcolor": "#888",
          "arrowhead": 2,
          "arrowsize": 1,
          "arrowwidth": 1,
          "ax": 878.86,
          "axref": "x",
          "ay": 234,
          "ayref": "y",
          "showarrow": true,
          "x": 1120.7,
          "xref": "x",
          "y": 234,
          "yref": "y"
         },
         {
          "arrowcolor": "#888",
          "arrowhead": 2,
          "arrowsize": 1,
          "arrowwidth": 1,
          "ax": 878.86,
          "axref": "x",
          "ay": 234,
          "ayref": "y",
          "showarrow": true,
          "x": 1120.7024014585095,
          "xref": "x",
          "y": 180.02178358783374,
          "yref": "y"
         }
        ],
        "height": 1000,
        "hovermode": "closest",
        "margin": {
         "b": 20,
         "l": 5,
         "r": 5,
         "t": 40
        },
        "showlegend": false,
        "template": {
         "data": {
          "bar": [
           {
            "error_x": {
             "color": "#2a3f5f"
            },
            "error_y": {
             "color": "#2a3f5f"
            },
            "marker": {
             "line": {
              "color": "#E5ECF6",
              "width": 0.5
             },
             "pattern": {
              "fillmode": "overlay",
              "size": 10,
              "solidity": 0.2
             }
            },
            "type": "bar"
           }
          ],
          "barpolar": [
           {
            "marker": {
             "line": {
              "color": "#E5ECF6",
              "width": 0.5
             },
             "pattern": {
              "fillmode": "overlay",
              "size": 10,
              "solidity": 0.2
             }
            },
            "type": "barpolar"
           }
          ],
          "carpet": [
           {
            "aaxis": {
             "endlinecolor": "#2a3f5f",
             "gridcolor": "white",
             "linecolor": "white",
             "minorgridcolor": "white",
             "startlinecolor": "#2a3f5f"
            },
            "baxis": {
             "endlinecolor": "#2a3f5f",
             "gridcolor": "white",
             "linecolor": "white",
             "minorgridcolor": "white",
             "startlinecolor": "#2a3f5f"
            },
            "type": "carpet"
           }
          ],
          "choropleth": [
           {
            "colorbar": {
             "outlinewidth": 0,
             "ticks": ""
            },
            "type": "choropleth"
           }
          ],
          "contour": [
           {
            "colorbar": {
             "outlinewidth": 0,
             "ticks": ""
            },
            "colorscale": [
             [
              0,
              "#0d0887"
             ],
             [
              0.1111111111111111,
              "#46039f"
             ],
             [
              0.2222222222222222,
              "#7201a8"
             ],
             [
              0.3333333333333333,
              "#9c179e"
             ],
             [
              0.4444444444444444,
              "#bd3786"
             ],
             [
              0.5555555555555556,
              "#d8576b"
             ],
             [
              0.6666666666666666,
              "#ed7953"
             ],
             [
              0.7777777777777778,
              "#fb9f3a"
             ],
             [
              0.8888888888888888,
              "#fdca26"
             ],
             [
              1,
              "#f0f921"
             ]
            ],
            "type": "contour"
           }
          ],
          "contourcarpet": [
           {
            "colorbar": {
             "outlinewidth": 0,
             "ticks": ""
            },
            "type": "contourcarpet"
           }
          ],
          "heatmap": [
           {
            "colorbar": {
             "outlinewidth": 0,
             "ticks": ""
            },
            "colorscale": [
             [
              0,
              "#0d0887"
             ],
             [
              0.1111111111111111,
              "#46039f"
             ],
             [
              0.2222222222222222,
              "#7201a8"
             ],
             [
              0.3333333333333333,
              "#9c179e"
             ],
             [
              0.4444444444444444,
              "#bd3786"
             ],
             [
              0.5555555555555556,
              "#d8576b"
             ],
             [
              0.6666666666666666,
              "#ed7953"
             ],
             [
              0.7777777777777778,
              "#fb9f3a"
             ],
             [
              0.8888888888888888,
              "#fdca26"
             ],
             [
              1,
              "#f0f921"
             ]
            ],
            "type": "heatmap"
           }
          ],
          "histogram": [
           {
            "marker": {
             "pattern": {
              "fillmode": "overlay",
              "size": 10,
              "solidity": 0.2
             }
            },
            "type": "histogram"
           }
          ],
          "histogram2d": [
           {
            "colorbar": {
             "outlinewidth": 0,
             "ticks": ""
            },
            "colorscale": [
             [
              0,
              "#0d0887"
             ],
             [
              0.1111111111111111,
              "#46039f"
             ],
             [
              0.2222222222222222,
              "#7201a8"
             ],
             [
              0.3333333333333333,
              "#9c179e"
             ],
             [
              0.4444444444444444,
              "#bd3786"
             ],
             [
              0.5555555555555556,
              "#d8576b"
             ],
             [
              0.6666666666666666,
              "#ed7953"
             ],
             [
              0.7777777777777778,
              "#fb9f3a"
             ],
             [
              0.8888888888888888,
              "#fdca26"
             ],
             [
              1,
              "#f0f921"
             ]
            ],
            "type": "histogram2d"
           }
          ],
          "histogram2dcontour": [
           {
            "colorbar": {
             "outlinewidth": 0,
             "ticks": ""
            },
            "colorscale": [
             [
              0,
              "#0d0887"
             ],
             [
              0.1111111111111111,
              "#46039f"
             ],
             [
              0.2222222222222222,
              "#7201a8"
             ],
             [
              0.3333333333333333,
              "#9c179e"
             ],
             [
              0.4444444444444444,
              "#bd3786"
             ],
             [
              0.5555555555555556,
              "#d8576b"
             ],
             [
              0.6666666666666666,
              "#ed7953"
             ],
             [
              0.7777777777777778,
              "#fb9f3a"
             ],
             [
              0.8888888888888888,
              "#fdca26"
             ],
             [
              1,
              "#f0f921"
             ]
            ],
            "type": "histogram2dcontour"
           }
          ],
          "mesh3d": [
           {
            "colorbar": {
             "outlinewidth": 0,
             "ticks": ""
            },
            "type": "mesh3d"
           }
          ],
          "parcoords": [
           {
            "line": {
             "colorbar": {
              "outlinewidth": 0,
              "ticks": ""
             }
            },
            "type": "parcoords"
           }
          ],
          "pie": [
           {
            "automargin": true,
            "type": "pie"
           }
          ],
          "scatter": [
           {
            "fillpattern": {
             "fillmode": "overlay",
             "size": 10,
             "solidity": 0.2
            },
            "type": "scatter"
           }
          ],
          "scatter3d": [
           {
            "line": {
             "colorbar": {
              "outlinewidth": 0,
              "ticks": ""
             }
            },
            "marker": {
             "colorbar": {
              "outlinewidth": 0,
              "ticks": ""
             }
            },
            "type": "scatter3d"
           }
          ],
          "scattercarpet": [
           {
            "marker": {
             "colorbar": {
              "outlinewidth": 0,
              "ticks": ""
             }
            },
            "type": "scattercarpet"
           }
          ],
          "scattergeo": [
           {
            "marker": {
             "colorbar": {
              "outlinewidth": 0,
              "ticks": ""
             }
            },
            "type": "scattergeo"
           }
          ],
          "scattergl": [
           {
            "marker": {
             "colorbar": {
              "outlinewidth": 0,
              "ticks": ""
             }
            },
            "type": "scattergl"
           }
          ],
          "scattermap": [
           {
            "marker": {
             "colorbar": {
              "outlinewidth": 0,
              "ticks": ""
             }
            },
            "type": "scattermap"
           }
          ],
          "scattermapbox": [
           {
            "marker": {
             "colorbar": {
              "outlinewidth": 0,
              "ticks": ""
             }
            },
            "type": "scattermapbox"
           }
          ],
          "scatterpolar": [
           {
            "marker": {
             "colorbar": {
              "outlinewidth": 0,
              "ticks": ""
             }
            },
            "type": "scatterpolar"
           }
          ],
          "scatterpolargl": [
           {
            "marker": {
             "colorbar": {
              "outlinewidth": 0,
              "ticks": ""
             }
            },
            "type": "scatterpolargl"
           }
          ],
          "scatterternary": [
           {
            "marker": {
             "colorbar": {
              "outlinewidth": 0,
              "ticks": ""
             }
            },
            "type": "scatterternary"
           }
          ],
          "surface": [
           {
            "colorbar": {
             "outlinewidth": 0,
             "ticks": ""
            },
            "colorscale": [
             [
              0,
              "#0d0887"
             ],
             [
              0.1111111111111111,
              "#46039f"
             ],
             [
              0.2222222222222222,
              "#7201a8"
             ],
             [
              0.3333333333333333,
              "#9c179e"
             ],
             [
              0.4444444444444444,
              "#bd3786"
             ],
             [
              0.5555555555555556,
              "#d8576b"
             ],
             [
              0.6666666666666666,
              "#ed7953"
             ],
             [
              0.7777777777777778,
              "#fb9f3a"
             ],
             [
              0.8888888888888888,
              "#fdca26"
             ],
             [
              1,
              "#f0f921"
             ]
            ],
            "type": "surface"
           }
          ],
          "table": [
           {
            "cells": {
             "fill": {
              "color": "#EBF0F8"
             },
             "line": {
              "color": "white"
             }
            },
            "header": {
             "fill": {
              "color": "#C8D4E3"
             },
             "line": {
              "color": "white"
             }
            },
            "type": "table"
           }
          ]
         },
         "layout": {
          "annotationdefaults": {
           "arrowcolor": "#2a3f5f",
           "arrowhead": 0,
           "arrowwidth": 1
          },
          "autotypenumbers": "strict",
          "coloraxis": {
           "colorbar": {
            "outlinewidth": 0,
            "ticks": ""
           }
          },
          "colorscale": {
           "diverging": [
            [
             0,
             "#8e0152"
            ],
            [
             0.1,
             "#c51b7d"
            ],
            [
             0.2,
             "#de77ae"
            ],
            [
             0.3,
             "#f1b6da"
            ],
            [
             0.4,
             "#fde0ef"
            ],
            [
             0.5,
             "#f7f7f7"
            ],
            [
             0.6,
             "#e6f5d0"
            ],
            [
             0.7,
             "#b8e186"
            ],
            [
             0.8,
             "#7fbc41"
            ],
            [
             0.9,
             "#4d9221"
            ],
            [
             1,
             "#276419"
            ]
           ],
           "sequential": [
            [
             0,
             "#0d0887"
            ],
            [
             0.1111111111111111,
             "#46039f"
            ],
            [
             0.2222222222222222,
             "#7201a8"
            ],
            [
             0.3333333333333333,
             "#9c179e"
            ],
            [
             0.4444444444444444,
             "#bd3786"
            ],
            [
             0.5555555555555556,
             "#d8576b"
            ],
            [
             0.6666666666666666,
             "#ed7953"
            ],
            [
             0.7777777777777778,
             "#fb9f3a"
            ],
            [
             0.8888888888888888,
             "#fdca26"
            ],
            [
             1,
             "#f0f921"
            ]
           ],
           "sequentialminus": [
            [
             0,
             "#0d0887"
            ],
            [
             0.1111111111111111,
             "#46039f"
            ],
            [
             0.2222222222222222,
             "#7201a8"
            ],
            [
             0.3333333333333333,
             "#9c179e"
            ],
            [
             0.4444444444444444,
             "#bd3786"
            ],
            [
             0.5555555555555556,
             "#d8576b"
            ],
            [
             0.6666666666666666,
             "#ed7953"
            ],
            [
             0.7777777777777778,
             "#fb9f3a"
            ],
            [
             0.8888888888888888,
             "#fdca26"
            ],
            [
             1,
             "#f0f921"
            ]
           ]
          },
          "colorway": [
           "#636efa",
           "#EF553B",
           "#00cc96",
           "#ab63fa",
           "#FFA15A",
           "#19d3f3",
           "#FF6692",
           "#B6E880",
           "#FF97FF",
           "#FECB52"
          ],
          "font": {
           "color": "#2a3f5f"
          },
          "geo": {
           "bgcolor": "white",
           "lakecolor": "white",
           "landcolor": "#E5ECF6",
           "showlakes": true,
           "showland": true,
           "subunitcolor": "white"
          },
          "hoverlabel": {
           "align": "left"
          },
          "hovermode": "closest",
          "mapbox": {
           "style": "light"
          },
          "paper_bgcolor": "white",
          "plot_bgcolor": "#E5ECF6",
          "polar": {
           "angularaxis": {
            "gridcolor": "white",
            "linecolor": "white",
            "ticks": ""
           },
           "bgcolor": "#E5ECF6",
           "radialaxis": {
            "gridcolor": "white",
            "linecolor": "white",
            "ticks": ""
           }
          },
          "scene": {
           "xaxis": {
            "backgroundcolor": "#E5ECF6",
            "gridcolor": "white",
            "gridwidth": 2,
            "linecolor": "white",
            "showbackground": true,
            "ticks": "",
            "zerolinecolor": "white"
           },
           "yaxis": {
            "backgroundcolor": "#E5ECF6",
            "gridcolor": "white",
            "gridwidth": 2,
            "linecolor": "white",
            "showbackground": true,
            "ticks": "",
            "zerolinecolor": "white"
           },
           "zaxis": {
            "backgroundcolor": "#E5ECF6",
            "gridcolor": "white",
            "gridwidth": 2,
            "linecolor": "white",
            "showbackground": true,
            "ticks": "",
            "zerolinecolor": "white"
           }
          },
          "shapedefaults": {
           "line": {
            "color": "#2a3f5f"
           }
          },
          "ternary": {
           "aaxis": {
            "gridcolor": "white",
            "linecolor": "white",
            "ticks": ""
           },
           "baxis": {
            "gridcolor": "white",
            "linecolor": "white",
            "ticks": ""
           },
           "bgcolor": "#E5ECF6",
           "caxis": {
            "gridcolor": "white",
            "linecolor": "white",
            "ticks": ""
           }
          },
          "title": {
           "x": 0.05
          },
          "xaxis": {
           "automargin": true,
           "gridcolor": "white",
           "linecolor": "white",
           "ticks": "",
           "title": {
            "standoff": 15
           },
           "zerolinecolor": "white",
           "zerolinewidth": 2
          },
          "yaxis": {
           "automargin": true,
           "gridcolor": "white",
           "linecolor": "white",
           "ticks": "",
           "title": {
            "standoff": 15
           },
           "zerolinecolor": "white",
           "zerolinewidth": 2
          }
         }
        },
        "title": {
         "text": "Scene Graph (Directed)"
        },
        "width": 1000,
        "xaxis": {
         "showgrid": false,
         "showticklabels": false,
         "zeroline": false
        },
        "yaxis": {
         "showgrid": false,
         "showticklabels": false,
         "zeroline": false
        }
       }
      }
     },
     "metadata": {},
     "output_type": "display_data"
    }
   ],
   "source": [
    "# Визуализируем рёбра графа (основные линии)\n",
    "edge_trace = go.Scatter(\n",
    "    x=edge_x, y=edge_y,\n",
    "    line=dict(width=0.5, color='#888'),\n",
    "    hoverinfo='none',\n",
    "    mode='lines',\n",
    ")\n",
    "\n",
    "# Визуализируем вершины графа\n",
    "node_trace = go.Scatter(\n",
    "    x=node_x, y=node_y,\n",
    "    mode='markers+text',\n",
    "    text=node_text,\n",
    "    textposition=\"top center\",\n",
    "    hoverinfo='text',\n",
    "    marker=dict(\n",
    "        color='lightblue',\n",
    "        size=10,\n",
    "        line_width=2\n",
    "    )\n",
    ")\n",
    "\n",
    "# Создаём фигуру\n",
    "fig = go.Figure(\n",
    "    data=[edge_trace, node_trace],\n",
    "    layout=go.Layout(\n",
    "        title='Scene Graph (Directed)',\n",
    "        showlegend=False,\n",
    "        hovermode='closest',\n",
    "        margin=dict(b=20, l=5, r=5, t=40),\n",
    "        xaxis=dict(showgrid=False, zeroline=False, showticklabels=False),\n",
    "        yaxis=dict(showgrid=False, zeroline=False, showticklabels=False),\n",
    "        height=1000, \n",
    "        width=1000\n",
    "    )\n",
    ")\n",
    "\n",
    "# Добавляем стрелки для ориентации рёбер (исправленная версия)\n",
    "def add_arrows(fig, edge_x, edge_y, arrow_length=0.1):\n",
    "    arrows = []\n",
    "    i = 0\n",
    "    while i < len(edge_x):\n",
    "        # Пропускаем None-значения (разрывы линий)\n",
    "        if edge_x[i] is None or edge_y[i] is None:\n",
    "            i += 1\n",
    "            continue\n",
    "            \n",
    "        x0, y0 = edge_x[i], edge_y[i]    # Начало ребра\n",
    "        \n",
    "        # Ищем следующий не-None элемент (конец ребра)\n",
    "        j = i + 1\n",
    "        while j < len(edge_x) and (edge_x[j] is None or edge_y[j] is None):\n",
    "            j += 1\n",
    "            \n",
    "        if j >= len(edge_x):\n",
    "            break\n",
    "            \n",
    "        x1, y1 = edge_x[j], edge_y[j]  # Конец ребра\n",
    "        \n",
    "        # Вычисляем направление ребра\n",
    "        dx = x1 - x0\n",
    "        dy = y1 - y0\n",
    "        length = np.sqrt(dx**2 + dy**2)\n",
    "        \n",
    "        if length == 0:\n",
    "            i = j + 1\n",
    "            continue\n",
    "            \n",
    "        # Нормализуем и укорачиваем стрелку\n",
    "        dx = dx / length * (length - arrow_length)\n",
    "        dy = dy / length * (length - arrow_length)\n",
    "        \n",
    "        # Добавляем стрелку как аннотацию\n",
    "        fig.add_annotation(\n",
    "            x=x0 + dx,\n",
    "            y=y0 + dy,\n",
    "            ax=x0,\n",
    "            ay=y0,\n",
    "            xref=\"x\",\n",
    "            yref=\"y\",\n",
    "            axref=\"x\",\n",
    "            ayref=\"y\",\n",
    "            showarrow=True,\n",
    "            arrowhead=2,\n",
    "            arrowsize=1,\n",
    "            arrowwidth=1,\n",
    "            arrowcolor='#888'\n",
    "        )\n",
    "        \n",
    "        i = j + 1\n",
    "    return fig\n",
    "\n",
    "# Добавляем стрелки к фигуре\n",
    "fig = add_arrows(fig, edge_x, edge_y)\n",
    "\n",
    "fig.show()"
   ]
  }
 ],
 "metadata": {
  "kernelspec": {
   "display_name": ".venv (3.13.5)",
   "language": "python",
   "name": "python3"
  },
  "language_info": {
   "codemirror_mode": {
    "name": "ipython",
    "version": 3
   },
   "file_extension": ".py",
   "mimetype": "text/x-python",
   "name": "python",
   "nbconvert_exporter": "python",
   "pygments_lexer": "ipython3",
   "version": "3.13.5"
  }
 },
 "nbformat": 4,
 "nbformat_minor": 5
}
