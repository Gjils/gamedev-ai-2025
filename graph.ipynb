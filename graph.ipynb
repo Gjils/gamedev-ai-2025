{
 "cells": [
  {
   "cell_type": "code",
   "execution_count": 1,
   "id": "fc145e93",
   "metadata": {},
   "outputs": [],
   "source": [
    "import json\n",
    "import networkx as nx\n",
    "import numpy as np\n",
    "import plotly.graph_objects as go"
   ]
  },
  {
   "cell_type": "code",
   "execution_count": 2,
   "id": "99121278",
   "metadata": {},
   "outputs": [],
   "source": [
    "filename = \"example-2.json\""
   ]
  },
  {
   "cell_type": "code",
   "execution_count": 3,
   "id": "6182f666",
   "metadata": {},
   "outputs": [],
   "source": [
    "with open(filename) as f:\n",
    "    data = json.load(f)"
   ]
  },
  {
   "cell_type": "code",
   "execution_count": 4,
   "id": "d0637742",
   "metadata": {},
   "outputs": [],
   "source": [
    "graph = nx.Graph(directed=True)\n",
    "graph.add_nodes_from(map(lambda scene: scene['scene_id'], data['scenes']))\n",
    "graph.add_edges_from(\n",
    "    (choice['next_scene'], scene['scene_id'])\n",
    "    for scene in data['scenes']\n",
    "    for choice in scene['choices']\n",
    ")"
   ]
  },
  {
   "cell_type": "code",
   "execution_count": 6,
   "id": "6dae6a86",
   "metadata": {},
   "outputs": [
    {
     "name": "stdout",
     "output_type": "stream",
     "text": [
      "[np.float64(0.3333491558730948), np.float64(-0.09625590464193248), None, np.float64(0.3333491558730948), np.float64(0.7154514410058098), None, np.float64(-0.09625590464193248), np.float64(-0.5371667074100004), None, np.float64(-0.09625590464193248), np.float64(-0.1652038634590499), None, np.float64(0.7154514410058098), np.float64(0.8099489002006074), None, np.float64(0.7154514410058098), np.float64(0.9231804693080453), None, np.float64(-0.5371667074100004), np.float64(-0.598595938551501), None, np.float64(-0.5371667074100004), np.float64(-0.7893707060241294), None, np.float64(-0.1652038634590499), np.float64(-0.06268536845019157), None, np.float64(-0.1652038634590499), np.float64(-0.31249321662937096), None, np.float64(0.8099489002006074), np.float64(0.5851825560578976), None, np.float64(0.8099489002006074), np.float64(0.7895271435585727), None, np.float64(0.9231804693080453), np.float64(0.7988435472215233), None, np.float64(0.9231804693080453), np.float64(0.9646517393184015), None, np.float64(-0.598595938551501), np.float64(-0.5446146565954171), None, np.float64(-0.598595938551501), np.float64(-0.5883664974297633), None, np.float64(-0.06268536845019157), np.float64(-0.17644715150877552), None, np.float64(-0.06268536845019157), np.float64(-0.08535091826118157), None, np.float64(-0.31249321662937096), np.float64(-0.025830267414415343), None, np.float64(-0.31249321662937096), np.float64(-0.7290924319757998), None, np.float64(0.7895271435585727), np.float64(0.8639984482383345), None, np.float64(0.7895271435585727), np.float64(0.5775463809787972), None, np.float64(0.7988435472215233), np.float64(0.6174243553492931), None, np.float64(0.7988435472215233), np.float64(0.9999999999999999), None, np.float64(-0.5446146565954171), np.float64(-0.14572000680183797), None, np.float64(-0.5446146565954171), np.float64(-0.914728327513177), None, np.float64(-0.5883664974297633), np.float64(-0.5111948590146744), None, np.float64(-0.5883664974297633), np.float64(-0.3705057893022464), None, np.float64(-0.17644715150877552), np.float64(-0.04507392111057254), None, np.float64(-0.17644715150877552), np.float64(-0.3308402939394654), None, np.float64(-0.08535091826118157), np.float64(0.10632986046395755), None, np.float64(-0.08535091826118157), np.float64(-0.28037252893404496), None, np.float64(-0.7290924319757998), np.float64(-0.8531683493614645), None, np.float64(-0.7290924319757998), np.float64(-0.9223562932453233), None] [np.float64(0.30333531883502685), np.float64(0.23668926938921656), None, np.float64(0.30333531883502685), np.float64(0.17847545988268074), None, np.float64(0.23668926938921656), np.float64(0.17199479143434313), None, np.float64(0.23668926938921656), np.float64(0.06801587221402065), None, np.float64(0.17847545988268074), np.float64(-0.14680879725079593), None, np.float64(0.17847545988268074), np.float64(0.13267079049135638), None, np.float64(0.17199479143434313), np.float64(-0.22665067936293062), None, np.float64(0.17199479143434313), np.float64(0.41665549158969206), None, np.float64(0.06801587221402065), np.float64(0.43540228582504664), None, np.float64(0.06801587221402065), np.float64(-0.2970843454153509), None, np.float64(-0.14680879725079593), np.float64(-0.37578805861173203), None, np.float64(-0.14680879725079593), np.float64(-0.06312999216405114), None, np.float64(0.13267079049135638), np.float64(-0.24420026980268178), None, np.float64(0.13267079049135638), np.float64(0.4074918609744589), None, np.float64(-0.22665067936293062), np.float64(-0.3543486734299842), None, np.float64(-0.22665067936293062), np.float64(-0.6578317656063635), None, np.float64(0.43540228582504664), np.float64(0.7611878743714277), None, np.float64(0.43540228582504664), np.float64(0.5139244000053227), None, np.float64(-0.2970843454153509), np.float64(-0.6064620827990663), None, np.float64(-0.2970843454153509), np.float64(-0.1954554103640644), None, np.float64(-0.06312999216405114), np.float64(-0.39202766132741096), None, np.float64(-0.06312999216405114), np.float64(0.18102596222639375), None, np.float64(-0.24420026980268178), np.float64(-0.6000351988194419), None, np.float64(-0.24420026980268178), np.float64(0.018314677420801128), None, np.float64(-0.3543486734299842), np.float64(-0.2952270651583484), None, np.float64(-0.3543486734299842), np.float64(-0.3226036085637204), None, np.float64(-0.6578317656063635), np.float64(-0.8211072893892234), None, np.float64(-0.6578317656063635), np.float64(-0.8645728742266074), None, np.float64(0.7611878743714277), np.float64(0.8908650612877117), None, np.float64(0.7611878743714277), np.float64(0.9447309084091402), None, np.float64(0.5139244000053227), np.float64(0.8361031793558701), None, np.float64(0.5139244000053227), np.float64(0.2763952932562736), None, np.float64(-0.1954554103640644), np.float64(0.12581341860747547), None, np.float64(-0.1954554103640644), np.float64(-0.43575814328448614), None]\n"
     ]
    }
   ],
   "source": [
    "# Генерируем координаты вершин графа\n",
    "pos = nx.spring_layout(graph, k=0.5, iterations=50)\n",
    "\n",
    "coords = np.array(list(pos.values()))\n",
    "\n",
    "\n",
    "# Извлекаем информацию о положении вершин и рёбер графа\n",
    "node_x = coords[:, 0] # Заполняем списки вершин\n",
    "node_y = coords[:, 1]\n",
    "node_text = list(graph.nodes())\n",
    "edge_x, edge_y = [], []\n",
    "\n",
    "for edge in graph.edges():\n",
    "  n_1 = node_text.index(edge[0])\n",
    "  n_2 = node_text.index(edge[1])\n",
    "  edge_x.extend([node_x[n_1], node_x[n_2], None])\n",
    "  edge_y.extend([node_y[n_1], node_y[n_2], None])\n",
    "\n",
    "print(edge_x, edge_y)"
   ]
  },
  {
   "cell_type": "code",
   "execution_count": 7,
   "id": "29d3149d",
   "metadata": {},
   "outputs": [
    {
     "data": {
      "application/vnd.plotly.v1+json": {
       "config": {
        "plotlyServerURL": "https://plot.ly"
       },
       "data": [
        {
         "hoverinfo": "none",
         "line": {
          "color": "#888",
          "width": 0.5
         },
         "mode": "lines",
         "type": "scatter",
         "x": [
          0.3333491558730948,
          -0.09625590464193248,
          null,
          0.3333491558730948,
          0.7154514410058098,
          null,
          -0.09625590464193248,
          -0.5371667074100004,
          null,
          -0.09625590464193248,
          -0.1652038634590499,
          null,
          0.7154514410058098,
          0.8099489002006074,
          null,
          0.7154514410058098,
          0.9231804693080453,
          null,
          -0.5371667074100004,
          -0.598595938551501,
          null,
          -0.5371667074100004,
          -0.7893707060241294,
          null,
          -0.1652038634590499,
          -0.06268536845019157,
          null,
          -0.1652038634590499,
          -0.31249321662937096,
          null,
          0.8099489002006074,
          0.5851825560578976,
          null,
          0.8099489002006074,
          0.7895271435585727,
          null,
          0.9231804693080453,
          0.7988435472215233,
          null,
          0.9231804693080453,
          0.9646517393184015,
          null,
          -0.598595938551501,
          -0.5446146565954171,
          null,
          -0.598595938551501,
          -0.5883664974297633,
          null,
          -0.06268536845019157,
          -0.17644715150877552,
          null,
          -0.06268536845019157,
          -0.08535091826118157,
          null,
          -0.31249321662937096,
          -0.025830267414415343,
          null,
          -0.31249321662937096,
          -0.7290924319757998,
          null,
          0.7895271435585727,
          0.8639984482383345,
          null,
          0.7895271435585727,
          0.5775463809787972,
          null,
          0.7988435472215233,
          0.6174243553492931,
          null,
          0.7988435472215233,
          0.9999999999999999,
          null,
          -0.5446146565954171,
          -0.14572000680183797,
          null,
          -0.5446146565954171,
          -0.914728327513177,
          null,
          -0.5883664974297633,
          -0.5111948590146744,
          null,
          -0.5883664974297633,
          -0.3705057893022464,
          null,
          -0.17644715150877552,
          -0.04507392111057254,
          null,
          -0.17644715150877552,
          -0.3308402939394654,
          null,
          -0.08535091826118157,
          0.10632986046395755,
          null,
          -0.08535091826118157,
          -0.28037252893404496,
          null,
          -0.7290924319757998,
          -0.8531683493614645,
          null,
          -0.7290924319757998,
          -0.9223562932453233,
          null
         ],
         "y": [
          0.30333531883502685,
          0.23668926938921656,
          null,
          0.30333531883502685,
          0.17847545988268074,
          null,
          0.23668926938921656,
          0.17199479143434313,
          null,
          0.23668926938921656,
          0.06801587221402065,
          null,
          0.17847545988268074,
          -0.14680879725079593,
          null,
          0.17847545988268074,
          0.13267079049135638,
          null,
          0.17199479143434313,
          -0.22665067936293062,
          null,
          0.17199479143434313,
          0.41665549158969206,
          null,
          0.06801587221402065,
          0.43540228582504664,
          null,
          0.06801587221402065,
          -0.2970843454153509,
          null,
          -0.14680879725079593,
          -0.37578805861173203,
          null,
          -0.14680879725079593,
          -0.06312999216405114,
          null,
          0.13267079049135638,
          -0.24420026980268178,
          null,
          0.13267079049135638,
          0.4074918609744589,
          null,
          -0.22665067936293062,
          -0.3543486734299842,
          null,
          -0.22665067936293062,
          -0.6578317656063635,
          null,
          0.43540228582504664,
          0.7611878743714277,
          null,
          0.43540228582504664,
          0.5139244000053227,
          null,
          -0.2970843454153509,
          -0.6064620827990663,
          null,
          -0.2970843454153509,
          -0.1954554103640644,
          null,
          -0.06312999216405114,
          -0.39202766132741096,
          null,
          -0.06312999216405114,
          0.18102596222639375,
          null,
          -0.24420026980268178,
          -0.6000351988194419,
          null,
          -0.24420026980268178,
          0.018314677420801128,
          null,
          -0.3543486734299842,
          -0.2952270651583484,
          null,
          -0.3543486734299842,
          -0.3226036085637204,
          null,
          -0.6578317656063635,
          -0.8211072893892234,
          null,
          -0.6578317656063635,
          -0.8645728742266074,
          null,
          0.7611878743714277,
          0.8908650612877117,
          null,
          0.7611878743714277,
          0.9447309084091402,
          null,
          0.5139244000053227,
          0.8361031793558701,
          null,
          0.5139244000053227,
          0.2763952932562736,
          null,
          -0.1954554103640644,
          0.12581341860747547,
          null,
          -0.1954554103640644,
          -0.43575814328448614,
          null
         ]
        },
        {
         "hoverinfo": "text",
         "marker": {
          "color": "lightblue",
          "line": {
           "width": 2
          },
          "size": 10
         },
         "mode": "markers+text",
         "text": [
          "start",
          "social_media_message",
          "personal_invitation",
          "repeat_message",
          "phone_call",
          "wait_here",
          "eavesdrop_on_friend",
          "ask_details",
          "give_up",
          "quick_proposal",
          "small_talk",
          "happy_agreement",
          "confused_by_behavior",
          "return_and_wait",
          "let_it_be",
          "promise_fun_evening",
          "admit_fear",
          "planning_the_date",
          "friends_advice",
          "excited_agreement",
          "think_later",
          "laugh_and_reveal",
          "angry_accusations",
          "positive_planning",
          "worry_about_delay",
          "gift_preparation",
          "consult_with_friends",
          "gratitude_and_friendship",
          "back_to_normal_life",
          "amusement_park_visit",
          "cozy_restaurant",
          "best_date_ever",
          "unique_event",
          "prepare_morally",
          "forget_and_study"
         ],
         "textposition": "top center",
         "type": "scatter",
         "x": {
          "bdata": "DfKnspdV1T8S53saOqS4v3Pfn2v65OY/NG4aPHgw4b87X11zZiXFv21eufQZ6+k/0Xx/xLGK7T+gG3Orsifjv/1o2VqGQum/kGhu9yUMsL+LR2mM4//Tv9yqjsTQueI/gG2cbc5D6T+D/L1XIJDpP5zdDFNt3u4/nvxft3tt4b+cuxD65dPivxftmfzRlca/MIedyo7Ztb9N2irnP3Oav/kb46a5VOe/BE/fEuCl6z9TREeMQnviP8JUv7jwweM/////////7z/9G8sD9KbCv5qabFd0Re2/Uj4rUrVb4L9CCQLqXbbXv7QQJdLtE6e/Z9GqxHws1b/B60cJbzi7P4L8nZ6f8dG/YazPtSdN679M81dY8YPtvw==",
          "dtype": "f8"
         },
         "y": {
          "bdata": "JpCHithp0z/1n6t/1UvOP5fWqqtI2MY/73sl4uwDxj9rpMT6fGmxP5qHenOhysK/br0lQVv7wD+hb72z4wLNv+DlhMt7qto/2TiOjKHd2z+Yme0ObgPTv/q9fVvpDNi/Mci9g0kpsL/iCj1W9EHPv+xfEb5YFNo/KtHwDqat1r+ck/Ez9Qzlv2svUaymW+g/AnVUlRFy4D9kWnwrI2jjv1+Cq9GuBMm/fNQhMPsW2b8job7V2yvHP4gbbAR9M+O/s4w8MhXBkj9c8m8PAOXSv7KTFpuJpdS/seJNy4JG6r/o+3m7lKrrv/km7HH3gew/dGdkUDw77j9fSG10W8HqPyN1U+J1sNE/lpUoc6cawD/c15cfduPbvw==",
          "dtype": "f8"
         }
        }
       ],
       "layout": {
        "height": 1000,
        "hovermode": "closest",
        "margin": {
         "b": 20,
         "l": 5,
         "r": 5,
         "t": 40
        },
        "showlegend": false,
        "template": {
         "data": {
          "bar": [
           {
            "error_x": {
             "color": "#2a3f5f"
            },
            "error_y": {
             "color": "#2a3f5f"
            },
            "marker": {
             "line": {
              "color": "#E5ECF6",
              "width": 0.5
             },
             "pattern": {
              "fillmode": "overlay",
              "size": 10,
              "solidity": 0.2
             }
            },
            "type": "bar"
           }
          ],
          "barpolar": [
           {
            "marker": {
             "line": {
              "color": "#E5ECF6",
              "width": 0.5
             },
             "pattern": {
              "fillmode": "overlay",
              "size": 10,
              "solidity": 0.2
             }
            },
            "type": "barpolar"
           }
          ],
          "carpet": [
           {
            "aaxis": {
             "endlinecolor": "#2a3f5f",
             "gridcolor": "white",
             "linecolor": "white",
             "minorgridcolor": "white",
             "startlinecolor": "#2a3f5f"
            },
            "baxis": {
             "endlinecolor": "#2a3f5f",
             "gridcolor": "white",
             "linecolor": "white",
             "minorgridcolor": "white",
             "startlinecolor": "#2a3f5f"
            },
            "type": "carpet"
           }
          ],
          "choropleth": [
           {
            "colorbar": {
             "outlinewidth": 0,
             "ticks": ""
            },
            "type": "choropleth"
           }
          ],
          "contour": [
           {
            "colorbar": {
             "outlinewidth": 0,
             "ticks": ""
            },
            "colorscale": [
             [
              0,
              "#0d0887"
             ],
             [
              0.1111111111111111,
              "#46039f"
             ],
             [
              0.2222222222222222,
              "#7201a8"
             ],
             [
              0.3333333333333333,
              "#9c179e"
             ],
             [
              0.4444444444444444,
              "#bd3786"
             ],
             [
              0.5555555555555556,
              "#d8576b"
             ],
             [
              0.6666666666666666,
              "#ed7953"
             ],
             [
              0.7777777777777778,
              "#fb9f3a"
             ],
             [
              0.8888888888888888,
              "#fdca26"
             ],
             [
              1,
              "#f0f921"
             ]
            ],
            "type": "contour"
           }
          ],
          "contourcarpet": [
           {
            "colorbar": {
             "outlinewidth": 0,
             "ticks": ""
            },
            "type": "contourcarpet"
           }
          ],
          "heatmap": [
           {
            "colorbar": {
             "outlinewidth": 0,
             "ticks": ""
            },
            "colorscale": [
             [
              0,
              "#0d0887"
             ],
             [
              0.1111111111111111,
              "#46039f"
             ],
             [
              0.2222222222222222,
              "#7201a8"
             ],
             [
              0.3333333333333333,
              "#9c179e"
             ],
             [
              0.4444444444444444,
              "#bd3786"
             ],
             [
              0.5555555555555556,
              "#d8576b"
             ],
             [
              0.6666666666666666,
              "#ed7953"
             ],
             [
              0.7777777777777778,
              "#fb9f3a"
             ],
             [
              0.8888888888888888,
              "#fdca26"
             ],
             [
              1,
              "#f0f921"
             ]
            ],
            "type": "heatmap"
           }
          ],
          "histogram": [
           {
            "marker": {
             "pattern": {
              "fillmode": "overlay",
              "size": 10,
              "solidity": 0.2
             }
            },
            "type": "histogram"
           }
          ],
          "histogram2d": [
           {
            "colorbar": {
             "outlinewidth": 0,
             "ticks": ""
            },
            "colorscale": [
             [
              0,
              "#0d0887"
             ],
             [
              0.1111111111111111,
              "#46039f"
             ],
             [
              0.2222222222222222,
              "#7201a8"
             ],
             [
              0.3333333333333333,
              "#9c179e"
             ],
             [
              0.4444444444444444,
              "#bd3786"
             ],
             [
              0.5555555555555556,
              "#d8576b"
             ],
             [
              0.6666666666666666,
              "#ed7953"
             ],
             [
              0.7777777777777778,
              "#fb9f3a"
             ],
             [
              0.8888888888888888,
              "#fdca26"
             ],
             [
              1,
              "#f0f921"
             ]
            ],
            "type": "histogram2d"
           }
          ],
          "histogram2dcontour": [
           {
            "colorbar": {
             "outlinewidth": 0,
             "ticks": ""
            },
            "colorscale": [
             [
              0,
              "#0d0887"
             ],
             [
              0.1111111111111111,
              "#46039f"
             ],
             [
              0.2222222222222222,
              "#7201a8"
             ],
             [
              0.3333333333333333,
              "#9c179e"
             ],
             [
              0.4444444444444444,
              "#bd3786"
             ],
             [
              0.5555555555555556,
              "#d8576b"
             ],
             [
              0.6666666666666666,
              "#ed7953"
             ],
             [
              0.7777777777777778,
              "#fb9f3a"
             ],
             [
              0.8888888888888888,
              "#fdca26"
             ],
             [
              1,
              "#f0f921"
             ]
            ],
            "type": "histogram2dcontour"
           }
          ],
          "mesh3d": [
           {
            "colorbar": {
             "outlinewidth": 0,
             "ticks": ""
            },
            "type": "mesh3d"
           }
          ],
          "parcoords": [
           {
            "line": {
             "colorbar": {
              "outlinewidth": 0,
              "ticks": ""
             }
            },
            "type": "parcoords"
           }
          ],
          "pie": [
           {
            "automargin": true,
            "type": "pie"
           }
          ],
          "scatter": [
           {
            "fillpattern": {
             "fillmode": "overlay",
             "size": 10,
             "solidity": 0.2
            },
            "type": "scatter"
           }
          ],
          "scatter3d": [
           {
            "line": {
             "colorbar": {
              "outlinewidth": 0,
              "ticks": ""
             }
            },
            "marker": {
             "colorbar": {
              "outlinewidth": 0,
              "ticks": ""
             }
            },
            "type": "scatter3d"
           }
          ],
          "scattercarpet": [
           {
            "marker": {
             "colorbar": {
              "outlinewidth": 0,
              "ticks": ""
             }
            },
            "type": "scattercarpet"
           }
          ],
          "scattergeo": [
           {
            "marker": {
             "colorbar": {
              "outlinewidth": 0,
              "ticks": ""
             }
            },
            "type": "scattergeo"
           }
          ],
          "scattergl": [
           {
            "marker": {
             "colorbar": {
              "outlinewidth": 0,
              "ticks": ""
             }
            },
            "type": "scattergl"
           }
          ],
          "scattermap": [
           {
            "marker": {
             "colorbar": {
              "outlinewidth": 0,
              "ticks": ""
             }
            },
            "type": "scattermap"
           }
          ],
          "scattermapbox": [
           {
            "marker": {
             "colorbar": {
              "outlinewidth": 0,
              "ticks": ""
             }
            },
            "type": "scattermapbox"
           }
          ],
          "scatterpolar": [
           {
            "marker": {
             "colorbar": {
              "outlinewidth": 0,
              "ticks": ""
             }
            },
            "type": "scatterpolar"
           }
          ],
          "scatterpolargl": [
           {
            "marker": {
             "colorbar": {
              "outlinewidth": 0,
              "ticks": ""
             }
            },
            "type": "scatterpolargl"
           }
          ],
          "scatterternary": [
           {
            "marker": {
             "colorbar": {
              "outlinewidth": 0,
              "ticks": ""
             }
            },
            "type": "scatterternary"
           }
          ],
          "surface": [
           {
            "colorbar": {
             "outlinewidth": 0,
             "ticks": ""
            },
            "colorscale": [
             [
              0,
              "#0d0887"
             ],
             [
              0.1111111111111111,
              "#46039f"
             ],
             [
              0.2222222222222222,
              "#7201a8"
             ],
             [
              0.3333333333333333,
              "#9c179e"
             ],
             [
              0.4444444444444444,
              "#bd3786"
             ],
             [
              0.5555555555555556,
              "#d8576b"
             ],
             [
              0.6666666666666666,
              "#ed7953"
             ],
             [
              0.7777777777777778,
              "#fb9f3a"
             ],
             [
              0.8888888888888888,
              "#fdca26"
             ],
             [
              1,
              "#f0f921"
             ]
            ],
            "type": "surface"
           }
          ],
          "table": [
           {
            "cells": {
             "fill": {
              "color": "#EBF0F8"
             },
             "line": {
              "color": "white"
             }
            },
            "header": {
             "fill": {
              "color": "#C8D4E3"
             },
             "line": {
              "color": "white"
             }
            },
            "type": "table"
           }
          ]
         },
         "layout": {
          "annotationdefaults": {
           "arrowcolor": "#2a3f5f",
           "arrowhead": 0,
           "arrowwidth": 1
          },
          "autotypenumbers": "strict",
          "coloraxis": {
           "colorbar": {
            "outlinewidth": 0,
            "ticks": ""
           }
          },
          "colorscale": {
           "diverging": [
            [
             0,
             "#8e0152"
            ],
            [
             0.1,
             "#c51b7d"
            ],
            [
             0.2,
             "#de77ae"
            ],
            [
             0.3,
             "#f1b6da"
            ],
            [
             0.4,
             "#fde0ef"
            ],
            [
             0.5,
             "#f7f7f7"
            ],
            [
             0.6,
             "#e6f5d0"
            ],
            [
             0.7,
             "#b8e186"
            ],
            [
             0.8,
             "#7fbc41"
            ],
            [
             0.9,
             "#4d9221"
            ],
            [
             1,
             "#276419"
            ]
           ],
           "sequential": [
            [
             0,
             "#0d0887"
            ],
            [
             0.1111111111111111,
             "#46039f"
            ],
            [
             0.2222222222222222,
             "#7201a8"
            ],
            [
             0.3333333333333333,
             "#9c179e"
            ],
            [
             0.4444444444444444,
             "#bd3786"
            ],
            [
             0.5555555555555556,
             "#d8576b"
            ],
            [
             0.6666666666666666,
             "#ed7953"
            ],
            [
             0.7777777777777778,
             "#fb9f3a"
            ],
            [
             0.8888888888888888,
             "#fdca26"
            ],
            [
             1,
             "#f0f921"
            ]
           ],
           "sequentialminus": [
            [
             0,
             "#0d0887"
            ],
            [
             0.1111111111111111,
             "#46039f"
            ],
            [
             0.2222222222222222,
             "#7201a8"
            ],
            [
             0.3333333333333333,
             "#9c179e"
            ],
            [
             0.4444444444444444,
             "#bd3786"
            ],
            [
             0.5555555555555556,
             "#d8576b"
            ],
            [
             0.6666666666666666,
             "#ed7953"
            ],
            [
             0.7777777777777778,
             "#fb9f3a"
            ],
            [
             0.8888888888888888,
             "#fdca26"
            ],
            [
             1,
             "#f0f921"
            ]
           ]
          },
          "colorway": [
           "#636efa",
           "#EF553B",
           "#00cc96",
           "#ab63fa",
           "#FFA15A",
           "#19d3f3",
           "#FF6692",
           "#B6E880",
           "#FF97FF",
           "#FECB52"
          ],
          "font": {
           "color": "#2a3f5f"
          },
          "geo": {
           "bgcolor": "white",
           "lakecolor": "white",
           "landcolor": "#E5ECF6",
           "showlakes": true,
           "showland": true,
           "subunitcolor": "white"
          },
          "hoverlabel": {
           "align": "left"
          },
          "hovermode": "closest",
          "mapbox": {
           "style": "light"
          },
          "paper_bgcolor": "white",
          "plot_bgcolor": "#E5ECF6",
          "polar": {
           "angularaxis": {
            "gridcolor": "white",
            "linecolor": "white",
            "ticks": ""
           },
           "bgcolor": "#E5ECF6",
           "radialaxis": {
            "gridcolor": "white",
            "linecolor": "white",
            "ticks": ""
           }
          },
          "scene": {
           "xaxis": {
            "backgroundcolor": "#E5ECF6",
            "gridcolor": "white",
            "gridwidth": 2,
            "linecolor": "white",
            "showbackground": true,
            "ticks": "",
            "zerolinecolor": "white"
           },
           "yaxis": {
            "backgroundcolor": "#E5ECF6",
            "gridcolor": "white",
            "gridwidth": 2,
            "linecolor": "white",
            "showbackground": true,
            "ticks": "",
            "zerolinecolor": "white"
           },
           "zaxis": {
            "backgroundcolor": "#E5ECF6",
            "gridcolor": "white",
            "gridwidth": 2,
            "linecolor": "white",
            "showbackground": true,
            "ticks": "",
            "zerolinecolor": "white"
           }
          },
          "shapedefaults": {
           "line": {
            "color": "#2a3f5f"
           }
          },
          "ternary": {
           "aaxis": {
            "gridcolor": "white",
            "linecolor": "white",
            "ticks": ""
           },
           "baxis": {
            "gridcolor": "white",
            "linecolor": "white",
            "ticks": ""
           },
           "bgcolor": "#E5ECF6",
           "caxis": {
            "gridcolor": "white",
            "linecolor": "white",
            "ticks": ""
           }
          },
          "title": {
           "x": 0.05
          },
          "xaxis": {
           "automargin": true,
           "gridcolor": "white",
           "linecolor": "white",
           "ticks": "",
           "title": {
            "standoff": 15
           },
           "zerolinecolor": "white",
           "zerolinewidth": 2
          },
          "yaxis": {
           "automargin": true,
           "gridcolor": "white",
           "linecolor": "white",
           "ticks": "",
           "title": {
            "standoff": 15
           },
           "zerolinecolor": "white",
           "zerolinewidth": 2
          }
         }
        },
        "title": {
         "text": "Scene Graph"
        },
        "width": 1000,
        "xaxis": {
         "showgrid": false,
         "showticklabels": false,
         "zeroline": false
        },
        "yaxis": {
         "showgrid": false,
         "showticklabels": false,
         "zeroline": false
        }
       }
      }
     },
     "metadata": {},
     "output_type": "display_data"
    }
   ],
   "source": [
    "# Визуализируем рёбра графа\n",
    "edge_trace = go.Scatter(\n",
    "    x=edge_x, y=edge_y,\n",
    "    line=dict(width=0.5, color='#888'),\n",
    "    hoverinfo='none',\n",
    "    mode='lines'\n",
    ")\n",
    "\n",
    "# Визуализируем вершины графа\n",
    "node_trace = go.Scatter(\n",
    "    x=node_x, y=node_y,\n",
    "    mode='markers+text',\n",
    "    text=node_text,\n",
    "    textposition=\"top center\",\n",
    "    hoverinfo='text',\n",
    "    marker=dict(\n",
    "        color='lightblue',\n",
    "        size=10,\n",
    "        line_width=2\n",
    "    )\n",
    ")\n",
    "\n",
    "# Визуализируем общий результат\n",
    "fig = go.Figure(\n",
    " data=[edge_trace, node_trace],\n",
    " layout=go.Layout(\n",
    "  title='Scene Graph',\n",
    "  showlegend=False,\n",
    "  hovermode='closest',\n",
    "  margin=dict(b=20, l=5, r=5, t=40),\n",
    "  xaxis=dict(showgrid=False, zeroline=False),\n",
    "  yaxis=dict(showgrid=False, zeroline=False),\n",
    "  height=1000, width=1000\n",
    " )\n",
    ")\n",
    "fig.update_xaxes(showticklabels=False)\n",
    "fig.update_yaxes(showticklabels=False)\n",
    "fig.show()"
   ]
  }
 ],
 "metadata": {
  "kernelspec": {
   "display_name": ".venv (3.13.5)",
   "language": "python",
   "name": "python3"
  },
  "language_info": {
   "codemirror_mode": {
    "name": "ipython",
    "version": 3
   },
   "file_extension": ".py",
   "mimetype": "text/x-python",
   "name": "python",
   "nbconvert_exporter": "python",
   "pygments_lexer": "ipython3",
   "version": "3.13.5"
  }
 },
 "nbformat": 4,
 "nbformat_minor": 5
}
